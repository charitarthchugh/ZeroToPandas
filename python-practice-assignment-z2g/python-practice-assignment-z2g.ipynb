{
 "cells": [
  {
   "metadata": {
    "pycharm": {
     "name": "#%% md\n"
    }
   },
   "cell_type": "markdown",
   "source": [
    "# Assignment 1 - Python Basics Practice\n",
    "\n",
    "*This assignment is a part of the course [\"Data Analysis with Python: Zero to Pandas\"](https://jovian.ml/learn/data-analysis-with-python-zero-to-pandas)*\n",
    "\n",
    "In this assignment, you'll get to practice some of the concepts and skills covered in the following notebooks:\n",
    "\n",
    "1. [First Steps with Python and Jupyter](https://jovian.ml/aakashns/first-steps-with-python)\n",
    "2. [A Quick Tour of Variables and Data Types](https://jovian.ml/aakashns/python-variables-and-data-types)\n",
    "3. [Branching using Conditional Statements and Loops](https://jovian.ml/aakashns/python-branching-and-loops)\n",
    "\n",
    "As you go through this notebook, you will find a **???** in certain places. To complete this assignment, you must replace all the **???** with appropriate values, expressions or statements to ensure that the notebook runs properly end-to-end. \n",
    "\n",
    "Some things to keep in mind:\n",
    "\n",
    "* Make sure to run all the code cells, otherwise you may get errors like `NameError` for undefined variables.\n",
    "* Do not change variable names, delete cells or disturb other existing code. It may cause problems during evaluation.\n",
    "* In some cases, you may need to add some code cells or new statements before or after the line of code containing the **???**. \n",
    "* Since you'll be using a temporary online service for code execution, save your work by running `jovian.commit` at regular intervals.\n",
    "* Questions marked **(Optional)** will not be considered for evaluation, and can be skipped. They are for your learning.\n",
    "\n",
    "You can make submissions on this page: https://jovian.ml/learn/data-analysis-with-python-zero-to-pandas/assignment/assignment-1-python-basics-practice\n",
    "\n",
    "If you are stuck, you can ask for help on the community forum: https://jovian.ml/forum/t/assignment-1-python-practice/7761 . You can get help with errors or ask for hints, but **please don't ask for or share the full working answer code** on the forum.\n",
    "\n",
    "\n",
    "## How to run the code and save your work\n",
    "\n",
    "The recommended way to run this notebook is to click the \"Run\" button at the top of this page, and select \"Run on Binder\". This will run the notebook on [mybinder.org](https://mybinder.org), a free online service for running Jupyter notebooks. \n",
    "\n",
    "Before staring the assignment, let's save a snapshot of the assignment to your Jovian.ml profile, so that you can access it later, and continue your work."
   ]
  },
  {
   "metadata": {
    "trusted": true
   },
   "cell_type": "code",
   "source": [
    "# Install the library\n",
    "!pip install jovian --upgrade"
   ],
   "execution_count": 4,
   "outputs": [
    {
     "name": "stdout",
     "output_type": "stream",
     "text": [
      "Defaulting to user installation because normal site-packages is not writeable\r\n",
      "Requirement already up-to-date: jovian in /home/ccd12/.local/lib/python3.8/site-packages (0.2.18)\r\n",
      "Requirement already satisfied, skipping upgrade: click in /home/ccd12/.local/lib/python3.8/site-packages (from jovian) (7.1.2)\r\n",
      "Requirement already satisfied, skipping upgrade: requests in /usr/lib/python3/dist-packages (from jovian) (2.22.0)\r\n",
      "Requirement already satisfied, skipping upgrade: pyyaml in /usr/lib/python3/dist-packages (from jovian) (5.3.1)\r\n",
      "Requirement already satisfied, skipping upgrade: uuid in /home/ccd12/.local/lib/python3.8/site-packages (from jovian) (1.30)\r\n"
     ]
    }
   ]
  },
  {
   "metadata": {
    "trusted": true
   },
   "cell_type": "code",
   "source": [
    "# Import it\n",
    "import jovian"
   ],
   "execution_count": 3,
   "outputs": [
    {
     "data": {
      "text/plain": "<IPython.core.display.Javascript object>",
      "application/javascript": "if (window.IPython && IPython.notebook.kernel) IPython.notebook.kernel.execute('jovian.utils.jupyter.get_notebook_name_saved = lambda: \"' + IPython.notebook.notebook_name + '\"')"
     },
     "metadata": {},
     "output_type": "display_data"
    }
   ]
  },
  {
   "metadata": {
    "trusted": true
   },
   "cell_type": "code",
   "source": [
    "project_name='python-practice-assignment-z2p'\n",
    "filename=\"python-practice-assignment-z2g.ipynb\""
   ],
   "execution_count": 3,
   "outputs": []
  },
  {
   "metadata": {
    "trusted": true,
    "tags": []
   },
   "cell_type": "code",
   "source": [
    "# Capture and upload a snapshot\n",
    "jovian.commit(project=project_name, evironment=None, filename=filename)"
   ],
   "execution_count": 4,
   "outputs": [
    {
     "output_type": "display_data",
     "data": {
      "text/plain": "<IPython.core.display.Javascript object>",
      "application/javascript": "window.require && require([\"base/js/namespace\"],function(Jupyter){Jupyter.notebook.save_checkpoint()})"
     },
     "metadata": {}
    },
    {
     "output_type": "stream",
     "name": "stdout",
     "text": "[jovian] Attempting to save notebook..\u001B[0m\n[jovian] Updating notebook \"charitarthchugh/python-practice-assignment-z2p\" on https://jovian.ml/\u001B[0m\n[jovian] Uploading notebook..\u001B[0m\n[jovian] Capturing environment..\u001B[0m\n[jovian] Committed successfully! https://jovian.ml/charitarthchugh/python-practice-assignment-z2p\u001B[0m\n"
    },
    {
     "output_type": "execute_result",
     "data": {
      "text/plain": "'https://jovian.ml/charitarthchugh/python-practice-assignment-z2p'"
     },
     "metadata": {},
     "execution_count": 4
    }
   ]
  },
  {
   "metadata": {},
   "cell_type": "markdown",
   "source": [
    "You'll be asked to provide an API Key, to securely upload the notebook to your Jovian.ml account. You can get the API key from your Jovian.ml profile page after logging in / signing up. See the docs for details: https://jovian.ml/docs/user-guide/upload.html . The privacy of your assignment notebook is set to *Secret*, so that you can the evlauators can access it, but it will not shown on your public profile to other users."
   ]
  },
  {
   "metadata": {},
   "cell_type": "markdown",
   "source": [
    "## Problem 1 - Variables and Data Types\n",
    "\n",
    "**Q: Assign your name to the variable `name`.**"
   ]
  },
  {
   "metadata": {
    "trusted": true
   },
   "cell_type": "code",
   "source": [
    "name = \"Charitarth Chugh\""
   ],
   "execution_count": 5,
   "outputs": []
  },
  {
   "metadata": {},
   "cell_type": "markdown",
   "source": [
    "**Q: Assign your age (real or fake) to the variable `age`.**"
   ]
  },
  {
   "metadata": {
    "trusted": true
   },
   "cell_type": "code",
   "source": [
    "age = 17"
   ],
   "execution_count": 6,
   "outputs": []
  },
  {
   "metadata": {},
   "cell_type": "markdown",
   "source": [
    "**Q: Assign a boolean value to the variable `has_android_phone`.**"
   ]
  },
  {
   "metadata": {
    "trusted": true
   },
   "cell_type": "code",
   "source": [
    "has_android_phone = True"
   ],
   "execution_count": 7,
   "outputs": []
  },
  {
   "metadata": {},
   "cell_type": "markdown",
   "source": [
    "You can check the values of these variables by running the next cell."
   ]
  },
  {
   "metadata": {
    "trusted": true
   },
   "cell_type": "code",
   "source": [
    "name, age, has_android_phone"
   ],
   "execution_count": 8,
   "outputs": [
    {
     "output_type": "execute_result",
     "data": {
      "text/plain": "('Charitarth Chugh', 17, True)"
     },
     "metadata": {},
     "execution_count": 8
    }
   ]
  },
  {
   "metadata": {},
   "cell_type": "markdown",
   "source": [
    "**Q: Create a dictionary `person` with keys `\"Name\"`, `\"Age\"`, `\"HasAndroidPhone\"` and values using the variables defined above.**"
   ]
  },
  {
   "metadata": {
    "trusted": true
   },
   "cell_type": "code",
   "source": [
    "person = {\n",
    "    \"Name\":name,\n",
    "    \"Age\": age,\n",
    "    \"HasAndroidPhone\":has_android_phone\n",
    "}"
   ],
   "execution_count": 9,
   "outputs": []
  },
  {
   "metadata": {},
   "cell_type": "markdown",
   "source": [
    "Let's use the `person` dictionary to print a nice message."
   ]
  },
  {
   "metadata": {
    "trusted": true,
    "tags": []
   },
   "cell_type": "code",
   "source": [
    "print(\"{} is aged {}, and owns an {}.\".format(\n",
    "    person[\"Name\"], \n",
    "    person[\"Age\"], \n",
    "    \"Android phone\" if person[\"HasAndroidPhone\"] else \"iPhone\"\n",
    "))"
   ],
   "execution_count": 10,
   "outputs": [
    {
     "output_type": "stream",
     "name": "stdout",
     "text": "Charitarth Chugh is aged 17, and owns an Android phone.\n"
    }
   ]
  },
  {
   "metadata": {},
   "cell_type": "markdown",
   "source": [
    "**Q (Optional): Use a `for` loop to display the `type` of each value stored against each key in `person`.**\n",
    "\n",
    "Here's the expected output for the key `\"Name\"`: \n",
    "\n",
    "```\n",
    "The key \"Name\" has the value \"Derek\" of the type \"<class 'str'>\"\n",
    "```"
   ]
  },
  {
   "metadata": {
    "trusted": false,
    "tags": []
   },
   "cell_type": "code",
   "source": [
    "for key in person:\n",
    "   print(f\"The key {key} has the value {person[key]} of  the type {type(person[key])}\")"
   ],
   "execution_count": 11,
   "outputs": [
    {
     "output_type": "stream",
     "name": "stdout",
     "text": "The key Name has the value Charitarth Chugh of  the type <class 'str'>\nThe key Age has the value 17 of  the type <class 'int'>\nThe key HasAndroidPhone has the value True of  the type <class 'bool'>\n"
    }
   ]
  },
  {
   "metadata": {},
   "cell_type": "markdown",
   "source": [
    "Now that you've solved one problem, it would be a good idea to record a snapshot of your notebook."
   ]
  },
  {
   "metadata": {
    "trusted": false,
    "tags": []
   },
   "cell_type": "code",
   "source": [
    "jovian.commit(project=project_name,environment=None,filename=\"python-practice-assignment-z2g.ipynb\")"
   ],
   "execution_count": 12,
   "outputs": [
    {
     "output_type": "display_data",
     "data": {
      "text/plain": "<IPython.core.display.Javascript object>",
      "application/javascript": "window.require && require([\"base/js/namespace\"],function(Jupyter){Jupyter.notebook.save_checkpoint()})"
     },
     "metadata": {}
    },
    {
     "output_type": "stream",
     "name": "stdout",
     "text": "[jovian] Attempting to save notebook..\u001B[0m\n[jovian] Updating notebook \"charitarthchugh/python-practice-assignment-z2p\" on https://jovian.ml/\u001B[0m\n[jovian] Uploading notebook..\u001B[0m\n[jovian] Committed successfully! https://jovian.ml/charitarthchugh/python-practice-assignment-z2p\u001B[0m\n"
    },
    {
     "output_type": "execute_result",
     "data": {
      "text/plain": "'https://jovian.ml/charitarthchugh/python-practice-assignment-z2p'"
     },
     "metadata": {},
     "execution_count": 12
    }
   ]
  },
  {
   "metadata": {},
   "cell_type": "markdown",
   "source": [
    "## Problem 2 - Working with Lists\n",
    "\n",
    "**Q: Create a list containing the following 3 elements:**\n",
    "\n",
    "* your favorite color\n",
    "* the number of pets you have\n",
    "* a boolean value describing whether you have previous programming experience\n"
   ]
  },
  {
   "metadata": {
    "trusted": false
   },
   "cell_type": "code",
   "source": [
    "my_list = [\"yellow\",0,True]"
   ],
   "execution_count": 13,
   "outputs": []
  },
  {
   "metadata": {},
   "cell_type": "markdown",
   "source": [
    "Let's see what the list looks like:"
   ]
  },
  {
   "metadata": {
    "trusted": false
   },
   "cell_type": "code",
   "source": [
    "my_list"
   ],
   "execution_count": 14,
   "outputs": [
    {
     "output_type": "execute_result",
     "data": {
      "text/plain": "['yellow', 0, True]"
     },
     "metadata": {},
     "execution_count": 14
    }
   ]
  },
  {
   "metadata": {},
   "cell_type": "markdown",
   "source": [
    "**Q: Complete the following `print` and `if` statements by accessing the appropriate elements from `my_list`.**\n",
    "\n",
    "*Hint*: Use the list indexing notation `[]`."
   ]
  },
  {
   "metadata": {
    "trusted": false,
    "tags": []
   },
   "cell_type": "code",
   "source": [
    "print('My favorite color is', my_list[0])"
   ],
   "execution_count": 15,
   "outputs": [
    {
     "output_type": "stream",
     "name": "stdout",
     "text": "My favorite color is yellow\n"
    }
   ]
  },
  {
   "metadata": {
    "trusted": false,
    "tags": []
   },
   "cell_type": "code",
   "source": [
    "print('I have {} pet(s).'.format(my_list[1]))"
   ],
   "execution_count": 16,
   "outputs": [
    {
     "output_type": "stream",
     "name": "stdout",
     "text": "I have 0 pet(s).\n"
    }
   ]
  },
  {
   "metadata": {
    "trusted": false,
    "tags": []
   },
   "cell_type": "code",
   "source": [
    "if my_list[2]== True:\n",
    "    print(\"I have previous programming experience\")\n",
    "else:\n",
    "    print(\"I do not have previous programming experience\")"
   ],
   "execution_count": 17,
   "outputs": [
    {
     "output_type": "stream",
     "name": "stdout",
     "text": "I have previous programming experience\n"
    }
   ]
  },
  {
   "metadata": {},
   "cell_type": "markdown",
   "source": [
    "**Q: Add your favorite single digit number to the end of the list using the appropriate list method.**"
   ]
  },
  {
   "metadata": {
    "trusted": false
   },
   "cell_type": "code",
   "source": [
    "my_list.append(2)"
   ],
   "execution_count": 18,
   "outputs": []
  },
  {
   "metadata": {},
   "cell_type": "markdown",
   "source": [
    "Let's see if the number shows up in the list."
   ]
  },
  {
   "metadata": {
    "trusted": false
   },
   "cell_type": "code",
   "source": [
    "my_list"
   ],
   "execution_count": 19,
   "outputs": [
    {
     "output_type": "execute_result",
     "data": {
      "text/plain": "['yellow', 0, True, 2]"
     },
     "metadata": {},
     "execution_count": 19
    }
   ]
  },
  {
   "metadata": {},
   "cell_type": "markdown",
   "source": [
    "**Q: Remove the first element of the list, using the appropriate list method.**\n",
    "\n",
    "*Hint*: Check out methods of list here: https://www.w3schools.com/python/python_ref_list.asp"
   ]
  },
  {
   "metadata": {
    "trusted": false
   },
   "cell_type": "code",
   "source": [
    "my_list.pop(0)"
   ],
   "execution_count": 20,
   "outputs": [
    {
     "output_type": "execute_result",
     "data": {
      "text/plain": "'yellow'"
     },
     "metadata": {},
     "execution_count": 20
    }
   ]
  },
  {
   "metadata": {
    "trusted": false
   },
   "cell_type": "code",
   "source": [
    "my_list"
   ],
   "execution_count": 21,
   "outputs": [
    {
     "output_type": "execute_result",
     "data": {
      "text/plain": "[0, True, 2]"
     },
     "metadata": {},
     "execution_count": 21
    }
   ]
  },
  {
   "metadata": {},
   "cell_type": "markdown",
   "source": [
    "**Q: Complete the `print` statement below to display the number of elements in `my_list`.**"
   ]
  },
  {
   "metadata": {
    "trusted": false,
    "tags": []
   },
   "cell_type": "code",
   "source": [
    "print(\"The list has {} elements.\".format(len(my_list)))"
   ],
   "execution_count": 22,
   "outputs": [
    {
     "output_type": "stream",
     "name": "stdout",
     "text": "The list has 3 elements.\n"
    }
   ]
  },
  {
   "metadata": {},
   "cell_type": "markdown",
   "source": [
    "Well done, you're making good progress! Save your work before continuing"
   ]
  },
  {
   "metadata": {
    "trusted": false,
    "tags": []
   },
   "cell_type": "code",
   "source": [
    "jovian.commit(project=project_name,environment=None)"
   ],
   "execution_count": 23,
   "outputs": [
    {
     "output_type": "display_data",
     "data": {
      "text/plain": "<IPython.core.display.Javascript object>",
      "application/javascript": "window.require && require([\"base/js/namespace\"],function(Jupyter){Jupyter.notebook.save_checkpoint()})"
     },
     "metadata": {}
    },
    {
     "output_type": "stream",
     "name": "stdout",
     "text": "[jovian] Attempting to save notebook..\u001B[0m\n\u001B[31m[jovian] Error: Failed to detect notebook filename. Please provide the correct notebook filename as the \"filename\" argument to \"jovian.commit\".\u001B[0m\n"
    }
   ]
  },
  {
   "metadata": {},
   "cell_type": "markdown",
   "source": [
    "## Problem 3 - Conditions and loops\n",
    "\n",
    "**Q: Calculate and display the sum of all the numbers divisible by 7 between 18 and 534 i.e. `21+28+35+...+525+532`**.\n",
    "\n",
    "*Hint*: One way to do this is to loop over a `range` using `for` and use an `if` statement inside it."
   ]
  },
  {
   "metadata": {
    "trusted": false
   },
   "cell_type": "code",
   "source": [
    "# store the final answer in this variable\n",
    "sum_of_numbers = 0\n",
    "\n",
    "# perform the calculation here\n",
    "for i in range(18,535):\n",
    "    if (i % 7)==0:\n",
    "        sum_of_numbers+=i"
   ],
   "execution_count": 24,
   "outputs": []
  },
  {
   "metadata": {
    "trusted": false,
    "tags": []
   },
   "cell_type": "code",
   "source": [
    "print('The sum of all the numbers divisible by 7 between 18 and 534 is', sum_of_numbers)"
   ],
   "execution_count": 25,
   "outputs": [
    {
     "output_type": "stream",
     "name": "stdout",
     "text": "The sum of all the numbers divisible by 7 between 18 and 534 is 20461\n"
    }
   ]
  },
  {
   "metadata": {},
   "cell_type": "markdown",
   "source": [
    "If you are not able to figure out the solution to this problem, you can ask for hints on the community forum: https://jovian.ml/forum/t/assignment-1-python-practice/7761 . Remember to save your work before moving forward."
   ]
  },
  {
   "metadata": {
    "trusted": true,
    "tags": []
   },
   "cell_type": "code",
   "source": [
    "jovian.commit(project=project_name,environment=None)"
   ],
   "execution_count": 26,
   "outputs": [
    {
     "output_type": "display_data",
     "data": {
      "text/plain": "<IPython.core.display.Javascript object>",
      "application/javascript": "window.require && require([\"base/js/namespace\"],function(Jupyter){Jupyter.notebook.save_checkpoint()})"
     },
     "metadata": {}
    },
    {
     "output_type": "stream",
     "name": "stdout",
     "text": "[jovian] Attempting to save notebook..\u001B[0m\n\u001B[31m[jovian] Error: Failed to detect notebook filename. Please provide the correct notebook filename as the \"filename\" argument to \"jovian.commit\".\u001B[0m\n"
    }
   ]
  },
  {
   "metadata": {},
   "cell_type": "markdown",
   "source": [
    "## Problem 4 - Flying to the Bahamas\n",
    "\n",
    "**Q: A travel company wants to fly a plane to the Bahamas. Flying the plane costs 5000 dollars. So far, 29 people have signed up for the trip. If the company charges 200 dollars per ticket, what is the profit made by the company?**\n",
    "\n",
    "Fill in values or arithmetic expressions for the variables below."
   ]
  },
  {
   "metadata": {
    "trusted": false
   },
   "cell_type": "code",
   "source": [
    "cost_of_flying_plane = 500"
   ],
   "execution_count": 27,
   "outputs": []
  },
  {
   "metadata": {
    "trusted": false
   },
   "cell_type": "code",
   "source": [
    "number_of_passengers = 29"
   ],
   "execution_count": 28,
   "outputs": []
  },
  {
   "metadata": {
    "trusted": false
   },
   "cell_type": "code",
   "source": [
    "price_of_ticket = 200"
   ],
   "execution_count": 29,
   "outputs": []
  },
  {
   "metadata": {
    "trusted": false
   },
   "cell_type": "code",
   "source": [
    "profit = (number_of_passengers*price_of_ticket)-cost_of_flying_plane"
   ],
   "execution_count": 30,
   "outputs": []
  },
  {
   "metadata": {
    "trusted": false,
    "tags": []
   },
   "cell_type": "code",
   "source": [
    "print('The company makes of a profit of {} dollars'.format(profit))"
   ],
   "execution_count": 31,
   "outputs": [
    {
     "output_type": "stream",
     "name": "stdout",
     "text": "The company makes of a profit of 5300 dollars\n"
    }
   ]
  },
  {
   "metadata": {},
   "cell_type": "markdown",
   "source": [
    "**Q (Optional): Out of the 29 people who took the flight, only 12 buy tickets to return from the Bahamas on the same plane. If the flying the plane back also costs 5000 dollars, and does the company make an overall profit or loss? The company charges the same fee of 200 dollars per ticket for the return flight.**\n",
    "\n",
    "Use an `if` statement to display the result."
   ]
  },
  {
   "metadata": {
    "trusted": false
   },
   "cell_type": "code",
   "source": [
    "# this is optional\n",
    "number_of_passengers_on_return=12\n",
    "profit_return=(number_of_passengers_on_return*price_of_ticket)-cost_of_flying_plane"
   ],
   "execution_count": 32,
   "outputs": []
  },
  {
   "metadata": {
    "trusted": false,
    "tags": []
   },
   "cell_type": "code",
   "source": [
    "# this is optional\n",
    "if profit_return>0:\n",
    "    print(\"The company makes an overall profit of {} dollars\".format(profit_return))\n",
    "else:\n",
    "    print(\"The company makes an overall loss of {} dollars\".format(profit_return))"
   ],
   "execution_count": 33,
   "outputs": [
    {
     "output_type": "stream",
     "name": "stdout",
     "text": "The company makes an overall profit of 1900 dollars\n"
    }
   ]
  },
  {
   "metadata": {},
   "cell_type": "markdown",
   "source": [
    "Great work so far! Want to take a break? Remember to save and upload your notebook to record your progress."
   ]
  },
  {
   "metadata": {
    "trusted": false,
    "tags": []
   },
   "cell_type": "code",
   "source": [
    "jovian.commit(project=project_name,environment=None)"
   ],
   "execution_count": 34,
   "outputs": [
    {
     "output_type": "display_data",
     "data": {
      "text/plain": "<IPython.core.display.Javascript object>",
      "application/javascript": "window.require && require([\"base/js/namespace\"],function(Jupyter){Jupyter.notebook.save_checkpoint()})"
     },
     "metadata": {}
    },
    {
     "output_type": "stream",
     "name": "stdout",
     "text": "[jovian] Attempting to save notebook..\u001B[0m\n\u001B[31m[jovian] Error: Failed to detect notebook filename. Please provide the correct notebook filename as the \"filename\" argument to \"jovian.commit\".\u001B[0m\n"
    }
   ]
  },
  {
   "metadata": {},
   "cell_type": "markdown",
   "source": [
    "## Problem 5 - Twitter Sentiment Analysis\n",
    "\n",
    "Are your ready to perform some *Data Analysis with Python*? In this problem, we'll analyze some fictional tweets and find out whether the overall sentiment of Twitter users is happy or sad. This is a simplified version of an important real world problem called *sentiment analysis*.\n",
    "\n",
    "Before we begin, we need a list of tweets to analyze. We're picking a small number of tweets here, but the exact same analysis can also be done for thousands, or even millions of tweets. The collection of data that we perform analysis on is often called a *dataset*."
   ]
  },
  {
   "metadata": {
    "trusted": false
   },
   "cell_type": "code",
   "source": [
    "tweets = [\n",
    "    \"Wow, what a great day today!! #sunshine\",\n",
    "    \"I feel sad about the things going on around us. #covid19\",\n",
    "    \"I'm really excited to learn Python with @JovianML #zerotopandas\",\n",
    "    \"This is a really nice song. #linkinpark\",\n",
    "    \"The python programming language is useful for data science\",\n",
    "    \"Why do bad things happen to me?\",\n",
    "    \"Apple announces the release of the new iPhone 12. Fans are excited.\",\n",
    "    \"Spent my day with family!! #happy\",\n",
    "    \"Check out my blog post on common string operations in Python. #zerotopandas\",\n",
    "    \"Freecodecamp has great coding tutorials. #skillup\"\n",
    "]"
   ],
   "execution_count": 35,
   "outputs": []
  },
  {
   "metadata": {},
   "cell_type": "markdown",
   "source": [
    "Let's begin by answering a very simple but important question about our dataset.\n",
    "\n",
    "**Q: How many tweets does the dataset contain?**"
   ]
  },
  {
   "metadata": {
    "trusted": false
   },
   "cell_type": "code",
   "source": [
    "number_of_tweets = len(tweets)"
   ],
   "execution_count": 36,
   "outputs": []
  },
  {
   "metadata": {},
   "cell_type": "markdown",
   "source": [
    "Let's create two lists of words: `happy_words` and `sad_words`. We will use these to check if a tweet is happy or sad."
   ]
  },
  {
   "metadata": {
    "trusted": false
   },
   "cell_type": "code",
   "source": [
    "happy_words = ['great', 'excited', 'happy', 'nice', 'wonderful', 'amazing', 'good', 'best']"
   ],
   "execution_count": 37,
   "outputs": []
  },
  {
   "metadata": {
    "trusted": false
   },
   "cell_type": "code",
   "source": [
    "sad_words = ['sad', 'bad', 'tragic', 'unhappy', 'worst']"
   ],
   "execution_count": 38,
   "outputs": []
  },
  {
   "metadata": {},
   "cell_type": "markdown",
   "source": [
    "To identify whether a tweet is happy, we can simply check if contains any of the words from `happy_words`. Here's an example:"
   ]
  },
  {
   "metadata": {
    "trusted": false
   },
   "cell_type": "code",
   "source": [
    "sample_tweet = tweets[0]"
   ],
   "execution_count": 39,
   "outputs": []
  },
  {
   "metadata": {
    "trusted": false
   },
   "cell_type": "code",
   "source": [
    "sample_tweet"
   ],
   "execution_count": 40,
   "outputs": [
    {
     "output_type": "execute_result",
     "data": {
      "text/plain": "'Wow, what a great day today!! #sunshine'"
     },
     "metadata": {},
     "execution_count": 40
    }
   ]
  },
  {
   "metadata": {
    "trusted": false
   },
   "cell_type": "code",
   "source": [
    "is_tweet_happy = False\n",
    "\n",
    "# Get a word from happy_words\n",
    "for word in happy_words:\n",
    "    # Check if the tweet contains the word\n",
    "    if word in sample_tweet:\n",
    "        # Word found! Mark the tweet as happy\n",
    "        is_tweet_happy = True"
   ],
   "execution_count": 41,
   "outputs": []
  },
  {
   "metadata": {},
   "cell_type": "markdown",
   "source": [
    "Do you understand what we're doing above? \n",
    "\n",
    "> For each word in the list of happy words, we check if is a part of the selected tweet. If the word is indded a part of the tweet, we set the variable `is_tweet_happy` to `True`. "
   ]
  },
  {
   "metadata": {
    "trusted": false
   },
   "cell_type": "code",
   "source": [
    "is_tweet_happy"
   ],
   "execution_count": 42,
   "outputs": [
    {
     "output_type": "execute_result",
     "data": {
      "text/plain": "True"
     },
     "metadata": {},
     "execution_count": 42
    }
   ]
  },
  {
   "metadata": {},
   "cell_type": "markdown",
   "source": [
    "**Q: Determine the number of tweets in the dataset that can be classified as happy.**\n",
    "\n",
    "*Hint*: You'll need to use a loop inside another loop to do this. Use the code from the example shown above."
   ]
  },
  {
   "metadata": {
    "trusted": false
   },
   "cell_type": "code",
   "source": [
    "# store the final answer in this variable\n",
    "number_of_happy_tweets = 0\n",
    "\n",
    "# perform the calculations here\n",
    "for tweet in tweets:\n",
    "    for word in happy_words:\n",
    "      if tweet.find(word) != -1:\n",
    "        number_of_happy_tweets+=1\n"
   ],
   "execution_count": 43,
   "outputs": []
  },
  {
   "metadata": {
    "trusted": false,
    "tags": []
   },
   "cell_type": "code",
   "source": [
    "print(\"Number of happy tweets:\", number_of_happy_tweets)"
   ],
   "execution_count": 44,
   "outputs": [
    {
     "output_type": "stream",
     "name": "stdout",
     "text": "Number of happy tweets: 6\n"
    }
   ]
  },
  {
   "metadata": {},
   "cell_type": "markdown",
   "source": [
    "If you are not able to figure out the solution to this problem, you can ask for hints on the community forum: https://jovian.ml/forum/t/assignment-1-python-practice/7761 . Also try adding `print` statements inside your loops to inspect variables and make sure your logic is correct."
   ]
  },
  {
   "metadata": {},
   "cell_type": "markdown",
   "source": [
    "**Q: What fraction of the total number of tweets are happy?**\n",
    "\n",
    "For example, if 2 out of 10 tweets are happy, then the answer is `2/10` i.e. `0.2`."
   ]
  },
  {
   "metadata": {
    "trusted": false
   },
   "cell_type": "code",
   "source": [
    "happy_fraction = \"{}/{}\".format(number_of_happy_tweets,len(tweets))"
   ],
   "execution_count": 45,
   "outputs": []
  },
  {
   "metadata": {
    "trusted": false,
    "tags": []
   },
   "cell_type": "code",
   "source": [
    "print(\"The fraction of happy tweets is:\", happy_fraction)"
   ],
   "execution_count": 46,
   "outputs": [
    {
     "output_type": "stream",
     "name": "stdout",
     "text": "The fraction of happy tweets is: 6/10\n"
    }
   ]
  },
  {
   "metadata": {},
   "cell_type": "markdown",
   "source": [
    "To identify whether a tweet is sad, we can simply check if contains any of the words from `sad_words`.\n",
    "\n",
    "**Q: Determine the number of tweets in the dataset that can be classified as sad.**"
   ]
  },
  {
   "metadata": {
    "trusted": false
   },
   "cell_type": "code",
   "source": [
    "# store the final answer in this variable\n",
    "number_of_sad_tweets = 0\n",
    "\n",
    "# perform the calculations here\n",
    "for tweet in tweets:\n",
    "    for word in sad_words:\n",
    "      if tweet.find(word) != -1:\n",
    "        number_of_sad_tweets+=1"
   ],
   "execution_count": 47,
   "outputs": []
  },
  {
   "metadata": {
    "trusted": false,
    "tags": []
   },
   "cell_type": "code",
   "source": [
    "print(\"Number of sad tweets:\", number_of_sad_tweets)"
   ],
   "execution_count": 48,
   "outputs": [
    {
     "output_type": "stream",
     "name": "stdout",
     "text": "Number of sad tweets: 2\n"
    }
   ]
  },
  {
   "metadata": {},
   "cell_type": "markdown",
   "source": [
    "**Q: What fraction of the total number of tweets are sad?**"
   ]
  },
  {
   "metadata": {
    "trusted": false
   },
   "cell_type": "code",
   "source": [
    "sad_fraction =  \"{}/{}\".format(number_of_sad_tweets,len(tweets))"
   ],
   "execution_count": 49,
   "outputs": []
  },
  {
   "metadata": {
    "trusted": false,
    "tags": []
   },
   "cell_type": "code",
   "source": [
    "print(\"The fraction of sad tweets is:\", sad_fraction)"
   ],
   "execution_count": 50,
   "outputs": [
    {
     "output_type": "stream",
     "name": "stdout",
     "text": "The fraction of sad tweets is: 2/10\n"
    }
   ]
  },
  {
   "metadata": {},
   "cell_type": "markdown",
   "source": [
    "The rest of this problem is optional. Let's save your work before continuing."
   ]
  },
  {
   "metadata": {
    "trusted": false,
    "tags": []
   },
   "cell_type": "code",
   "source": [
    "jovian.commit(project=project_name,environment=None)"
   ],
   "execution_count": 51,
   "outputs": [
    {
     "output_type": "display_data",
     "data": {
      "text/plain": "<IPython.core.display.Javascript object>",
      "application/javascript": "window.require && require([\"base/js/namespace\"],function(Jupyter){Jupyter.notebook.save_checkpoint()})"
     },
     "metadata": {}
    },
    {
     "output_type": "stream",
     "name": "stdout",
     "text": "[jovian] Attempting to save notebook..\u001B[0m\n\u001B[31m[jovian] Error: Failed to detect notebook filename. Please provide the correct notebook filename as the \"filename\" argument to \"jovian.commit\".\u001B[0m\n"
    }
   ]
  },
  {
   "metadata": {},
   "cell_type": "markdown",
   "source": [
    "Great work, even with some basic analysis, we already know a lot about the sentiment of the tweets given to us. Let us now define a metric called \"sentiment score\", to summarize the overall sentiment of the tweets.\n",
    "\n",
    "**Q (Optional): Calculate the sentiment score, which is defined as the difference between the fraction of happy tweets and the fraction of sad tweets.**"
   ]
  },
  {
   "metadata": {
    "trusted": false
   },
   "cell_type": "code",
   "source": [
    "sentiment_score = (number_of_happy_tweets-number_of_sad_tweets)/len(tweets)"
   ],
   "execution_count": 52,
   "outputs": []
  },
  {
   "metadata": {
    "trusted": false,
    "tags": []
   },
   "cell_type": "code",
   "source": [
    "print(\"The sentiment score for the given tweets is\", sentiment_score)"
   ],
   "execution_count": 53,
   "outputs": [
    {
     "output_type": "stream",
     "name": "stdout",
     "text": "The sentiment score for the given tweets is 0.4\n"
    }
   ]
  },
  {
   "metadata": {},
   "cell_type": "markdown",
   "source": [
    "In a real world scenario, we could calculate & record the sentiment score for all the tweets sent out every day. This information can be used to plot a graph and study the trends in the changing sentiment of the world. The following graph was creating using the Python data visualization library `matplotlib`, which we'll cover later in the course.\n",
    "\n",
    "<img src=\"https://i.imgur.com/6CCIwCb.png\" style=\"width:400px\">\n",
    "\n",
    "What does the sentiment score represent? Based on the value of the sentiment score, can you identify if the overall sentiment of the dataset is happy or sad?\n",
    "\n",
    "**Q (Optional): Display whether the overall sentiment of the given dataset of tweets is happy or sad, using the sentiment score.**"
   ]
  },
  {
   "metadata": {
    "trusted": false,
    "tags": []
   },
   "cell_type": "code",
   "source": [
    "if sentiment_score>0:\n",
    "    print(\"The overall sentiment is happy\")\n",
    "else:\n",
    "    print(\"The overall sentiment is sad\")"
   ],
   "execution_count": 54,
   "outputs": [
    {
     "output_type": "stream",
     "name": "stdout",
     "text": "The overall sentiment is happy\n"
    }
   ]
  },
  {
   "metadata": {},
   "cell_type": "markdown",
   "source": [
    "Finally, it's also important to track how many tweets are neutral i.e. neither happy nor sad. If a large fraction of tweets are marked neutral, maybe we need to improve our lists of happy and sad words. \n",
    "\n",
    "**Q (Optional): What is the fraction of tweets that are neutral i.e. neither happy nor sad.**"
   ]
  },
  {
   "metadata": {
    "trusted": false
   },
   "cell_type": "code",
   "source": [
    "# store the final answer in this variable\n",
    "number_of_neutral_tweets = 0\n",
    "\n",
    "# perform the calculation here\n",
    "emotional_words=happy_words+sad_words\n",
    "for tweet in tweets:\n",
    "    for word in emotional_words:\n",
    "      if tweet.find(word) == -1:\n",
    "        number_of_neutral_tweets+=1"
   ],
   "execution_count": 55,
   "outputs": []
  },
  {
   "metadata": {
    "trusted": false
   },
   "cell_type": "code",
   "source": [
    "neutral_fraction =  \"{}/{}\".format(number_of_neutral_tweets,len(tweets))"
   ],
   "execution_count": 56,
   "outputs": []
  },
  {
   "metadata": {
    "trusted": false,
    "tags": []
   },
   "cell_type": "code",
   "source": [
    "print('The fraction of neutral tweets is', neutral_fraction)"
   ],
   "execution_count": 57,
   "outputs": [
    {
     "output_type": "stream",
     "name": "stdout",
     "text": "The fraction of neutral tweets is 122/10\n"
    }
   ]
  },
  {
   "metadata": {},
   "cell_type": "markdown",
   "source": [
    "Ponder upon these questions and try some experiments to hone your skills further:\n",
    "\n",
    "* What are the limitations of our approach? When will it go wrong or give incorrect results?\n",
    "* How can we improve our approach to address the limitations?\n",
    "* What are some other questions you would like to ask, given a list of tweets?\n",
    "* Try collecting some real tweets from your Twitter timeline and repeat this analysis. Do the results make sense?\n",
    "\n",
    "**IMPORTANT NOTE**: If you want to try out these experiments, please create a new notebook using the \"New Notebook\" button on your Jovian.ml profile, to avoid making unintended changes to your assignment submission notebook."
   ]
  },
  {
   "metadata": {},
   "cell_type": "markdown",
   "source": [
    "## Submission \n",
    "\n",
    "Congratulations on making it this far! You've reached the end of this assignment, and you just completed your first data analysis problem. It's time to record one final version of your notebook for submission.\n",
    "\n",
    "Make a submission here by filling the submission form: https://jovian.ml/learn/data-analysis-with-python-zero-to-pandas/assignment/assignment-1-python-basics-practice"
   ]
  },
  {
   "metadata": {
    "scrolled": false,
    "trusted": false,
    "tags": []
   },
   "cell_type": "code",
   "source": [
    "jovian.commit(filename=filename)"
   ],
   "execution_count": 61,
   "outputs": [
    {
     "output_type": "display_data",
     "data": {
      "text/plain": "<IPython.core.display.Javascript object>",
      "application/javascript": "window.require && require([\"base/js/namespace\"],function(Jupyter){Jupyter.notebook.save_checkpoint()})"
     },
     "metadata": {}
    },
    {
     "output_type": "stream",
     "name": "stdout",
     "text": "[jovian] Attempting to save notebook..\u001B[0m\n[jovian] Updating notebook \"charitarthchugh/python-practice-assignment-z2p\" on https://jovian.ml/\u001B[0m\n[jovian] Uploading notebook..\u001B[0m\n[jovian] Capturing environment..\u001B[0m\n[jovian] Committed successfully! https://jovian.ml/charitarthchugh/python-practice-assignment-z2p\u001B[0m\n"
    },
    {
     "output_type": "execute_result",
     "data": {
      "text/plain": "'https://jovian.ml/charitarthchugh/python-practice-assignment-z2p'"
     },
     "metadata": {},
     "execution_count": 61
    }
   ]
  },
  {
   "cell_type": "code",
   "execution_count": null,
   "metadata": {},
   "outputs": [],
   "source": []
  }
 ],
 "metadata": {
  "kernelspec": {
   "name": "python3",
   "display_name": "Python 3",
   "language": "python"
  },
  "language_info": {
   "name": "python",
   "version": "3.8.5-final",
   "mimetype": "text/x-python",
   "codemirror_mode": {
    "name": "ipython",
    "version": 3
   },
   "pygments_lexer": "ipython3",
   "nbconvert_exporter": "python",
   "file_extension": ".py"
  }
 },
 "nbformat": 4,
 "nbformat_minor": 4
}