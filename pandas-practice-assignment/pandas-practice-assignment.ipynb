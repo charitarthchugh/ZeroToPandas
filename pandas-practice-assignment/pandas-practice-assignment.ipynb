{
 "cells": [
  {
   "cell_type": "markdown",
   "metadata": {},
   "source": [
    "# Assignment 3 - Pandas Data Analysis Practice\n",
    "\n",
    "*This assignment is a part of the course [\"Data Analysis with Python: Zero to Pandas\"](https://jovian.ml/learn/data-analysis-with-python-zero-to-pandas)*\n",
    "\n",
    "In this assignment, you'll get to practice some of the concepts and skills covered this tutorial: https://jovian.ml/aakashns/python-pandas-data-analysis\n",
    "\n",
    "As you go through this notebook, you will find a **???** in certain places. To complete this assignment, you must replace all the **???** with appropriate values, expressions or statements to ensure that the notebook runs properly end-to-end. \n",
    "\n",
    "Some things to keep in mind:\n",
    "\n",
    "* Make sure to run all the code cells, otherwise you may get errors like `NameError` for undefined variables.\n",
    "* Do not change variable names, delete cells or disturb other existing code. It may cause problems during evaluation.\n",
    "* In some cases, you may need to add some code cells or new statements before or after the line of code containing the **???**. \n",
    "* Since you'll be using a temporary online service for code execution, save your work by running `jovian.commit` at regular intervals.\n",
    "* Questions marked **(Optional)** will not be considered for evaluation, and can be skipped. They are for your learning.\n",
    "\n",
    "You can make submissions on this page: https://jovian.ml/learn/data-analysis-with-python-zero-to-pandas/assignment/assignment-3-pandas-practice\n",
    "\n",
    "If you are stuck, you can ask for help on the community forum: https://jovian.ml/forum/t/assignment-3-pandas-practice/11225/3 . You can get help with errors or ask for hints, describe your approach in simple words, link to documentation, but **please don't ask for or share the full working answer code** on the forum.\n",
    "\n",
    "\n",
    "## How to run the code and save your work\n",
    "\n",
    "The recommended way to run this notebook is to click the \"Run\" button at the top of this page, and select \"Run on Binder\". This will run the notebook on [mybinder.org](https://mybinder.org), a free online service for running Jupyter notebooks. \n",
    "\n",
    "Before staring the assignment, let's save a snapshot of the assignment to your Jovian.ml profile, so that you can access it later, and continue your work."
   ]
  },
  {
   "cell_type": "code",
   "execution_count": 61,
   "metadata": {},
   "outputs": [],
   "source": [
    "import jovian"
   ]
  },
  {
   "cell_type": "code",
   "execution_count": 45,
   "metadata": {
    "tags": []
   },
   "outputs": [
    {
     "output_type": "display_data",
     "data": {
      "text/plain": "<IPython.core.display.Javascript object>",
      "application/javascript": "window.require && require([\"base/js/namespace\"],function(Jupyter){Jupyter.notebook.save_checkpoint()})"
     },
     "metadata": {}
    },
    {
     "output_type": "stream",
     "name": "stdout",
     "text": "[jovian] Attempting to save notebook..\u001b[0m\n[jovian] Updating notebook \"charitarthchugh/pandas-practice-assignment\" on https://jovian.ml/\u001b[0m\n[jovian] Uploading notebook..\u001b[0m\n[jovian] Capturing environment..\u001b[0m\n[jovian] Git repository identified. Performing git commit...\u001b[0m\n[jovian] Attaching records (metrics, hyperparameters, dataset etc.)\u001b[0m\n[jovian] Committed successfully! https://jovian.ml/charitarthchugh/pandas-practice-assignment\u001b[0m\nEnumerating objects: 8, done.\nCounting objects: 100% (8/8), done.\nDelta compression using up to 24 threads\nCompressing objects: 100% (5/5), done.\nWriting objects: 100% (5/5), 4.21 KiB | 1.40 MiB/s, done.\nTotal 5 (delta 3), reused 0 (delta 0), pack-reused 0\nremote: Resolving deltas: 100% (3/3), completed with 3 local objects.\u001b[K\nTo https://github.com/charitarthchugh/ZeroToPandas.git\n   be5d9da..791b323  master -> master\nDone!\n"
    }
   ],
   "source": [
    "filename=\"pandas-practice-assignment.ipynb\"\n",
    "def commit():\n",
    "    jovian.commit(project='pandas-practice-assignment',filename=filename, git_commit=True,git_message=\"Update {}\".format(filename))\n",
    "    !git push \n",
    "    print (\"Done!\")\n",
    "commit()"
   ]
  },
  {
   "cell_type": "code",
   "execution_count": 9,
   "metadata": {
    "tags": []
   },
   "outputs": [
    {
     "output_type": "stream",
     "name": "stdout",
     "text": "Defaulting to user installation because normal site-packages is not writeable\nRequirement already up-to-date: pandas in /home/ccd12/.local/lib/python3.8/site-packages (1.1.2)\nRequirement already satisfied, skipping upgrade: pytz>=2017.2 in /home/ccd12/.local/lib/python3.8/site-packages (from pandas) (2020.1)\nRequirement already satisfied, skipping upgrade: numpy>=1.15.4 in /usr/lib/python3/dist-packages (from pandas) (1.17.4)\nRequirement already satisfied, skipping upgrade: python-dateutil>=2.7.3 in /home/ccd12/.local/lib/python3.8/site-packages (from pandas) (2.8.1)\nRequirement already satisfied, skipping upgrade: six>=1.5 in /home/ccd12/.local/lib/python3.8/site-packages (from python-dateutil>=2.7.3->pandas) (1.15.0)\n"
    }
   ],
   "source": [
    "# Run the next line to install Pandas\n",
    "!pip install pandas --upgrade"
   ]
  },
  {
   "cell_type": "code",
   "execution_count": 10,
   "metadata": {},
   "outputs": [],
   "source": [
    "import pandas as pd"
   ]
  },
  {
   "cell_type": "markdown",
   "metadata": {},
   "source": [
    "In this assignment, we're going to analyze an operate on data from a CSV file. Let's begin by downloading the CSV file."
   ]
  },
  {
   "cell_type": "code",
   "execution_count": 11,
   "metadata": {},
   "outputs": [
    {
     "output_type": "execute_result",
     "data": {
      "text/plain": "('countries.csv', <http.client.HTTPMessage at 0x7f43e8664f40>)"
     },
     "metadata": {},
     "execution_count": 11
    }
   ],
   "source": [
    "from urllib.request import urlretrieve\n",
    "\n",
    "urlretrieve('https://hub.jovian.ml/wp-content/uploads/2020/09/countries.csv', \n",
    "            'countries.csv')"
   ]
  },
  {
   "cell_type": "markdown",
   "metadata": {},
   "source": [
    "Let's load the data from the CSV file into a Pandas data frame."
   ]
  },
  {
   "cell_type": "code",
   "execution_count": 12,
   "metadata": {},
   "outputs": [],
   "source": [
    "countries_df = pd.read_csv('countries.csv')"
   ]
  },
  {
   "cell_type": "code",
   "execution_count": 13,
   "metadata": {},
   "outputs": [
    {
     "output_type": "execute_result",
     "data": {
      "text/plain": "           location continent  population  life_expectancy  \\\n0       Afghanistan      Asia  38928341.0            64.83   \n1           Albania    Europe   2877800.0            78.57   \n2           Algeria    Africa  43851043.0            76.88   \n3           Andorra    Europe     77265.0            83.73   \n4            Angola    Africa  32866268.0            61.15   \n..              ...       ...         ...              ...   \n205         Vietnam      Asia  97338583.0            75.40   \n206  Western Sahara    Africa    597330.0            70.26   \n207           Yemen      Asia  29825968.0            66.12   \n208          Zambia    Africa  18383956.0            63.89   \n209        Zimbabwe    Africa  14862927.0            61.49   \n\n     hospital_beds_per_thousand  gdp_per_capita  \n0                          0.50        1803.987  \n1                          2.89       11803.431  \n2                          1.90       13913.839  \n3                           NaN             NaN  \n4                           NaN        5819.495  \n..                          ...             ...  \n205                        2.60        6171.884  \n206                         NaN             NaN  \n207                        0.70        1479.147  \n208                        2.00        3689.251  \n209                        1.70        1899.775  \n\n[210 rows x 6 columns]",
      "text/html": "<div>\n<style scoped>\n    .dataframe tbody tr th:only-of-type {\n        vertical-align: middle;\n    }\n\n    .dataframe tbody tr th {\n        vertical-align: top;\n    }\n\n    .dataframe thead th {\n        text-align: right;\n    }\n</style>\n<table border=\"1\" class=\"dataframe\">\n  <thead>\n    <tr style=\"text-align: right;\">\n      <th></th>\n      <th>location</th>\n      <th>continent</th>\n      <th>population</th>\n      <th>life_expectancy</th>\n      <th>hospital_beds_per_thousand</th>\n      <th>gdp_per_capita</th>\n    </tr>\n  </thead>\n  <tbody>\n    <tr>\n      <th>0</th>\n      <td>Afghanistan</td>\n      <td>Asia</td>\n      <td>38928341.0</td>\n      <td>64.83</td>\n      <td>0.50</td>\n      <td>1803.987</td>\n    </tr>\n    <tr>\n      <th>1</th>\n      <td>Albania</td>\n      <td>Europe</td>\n      <td>2877800.0</td>\n      <td>78.57</td>\n      <td>2.89</td>\n      <td>11803.431</td>\n    </tr>\n    <tr>\n      <th>2</th>\n      <td>Algeria</td>\n      <td>Africa</td>\n      <td>43851043.0</td>\n      <td>76.88</td>\n      <td>1.90</td>\n      <td>13913.839</td>\n    </tr>\n    <tr>\n      <th>3</th>\n      <td>Andorra</td>\n      <td>Europe</td>\n      <td>77265.0</td>\n      <td>83.73</td>\n      <td>NaN</td>\n      <td>NaN</td>\n    </tr>\n    <tr>\n      <th>4</th>\n      <td>Angola</td>\n      <td>Africa</td>\n      <td>32866268.0</td>\n      <td>61.15</td>\n      <td>NaN</td>\n      <td>5819.495</td>\n    </tr>\n    <tr>\n      <th>...</th>\n      <td>...</td>\n      <td>...</td>\n      <td>...</td>\n      <td>...</td>\n      <td>...</td>\n      <td>...</td>\n    </tr>\n    <tr>\n      <th>205</th>\n      <td>Vietnam</td>\n      <td>Asia</td>\n      <td>97338583.0</td>\n      <td>75.40</td>\n      <td>2.60</td>\n      <td>6171.884</td>\n    </tr>\n    <tr>\n      <th>206</th>\n      <td>Western Sahara</td>\n      <td>Africa</td>\n      <td>597330.0</td>\n      <td>70.26</td>\n      <td>NaN</td>\n      <td>NaN</td>\n    </tr>\n    <tr>\n      <th>207</th>\n      <td>Yemen</td>\n      <td>Asia</td>\n      <td>29825968.0</td>\n      <td>66.12</td>\n      <td>0.70</td>\n      <td>1479.147</td>\n    </tr>\n    <tr>\n      <th>208</th>\n      <td>Zambia</td>\n      <td>Africa</td>\n      <td>18383956.0</td>\n      <td>63.89</td>\n      <td>2.00</td>\n      <td>3689.251</td>\n    </tr>\n    <tr>\n      <th>209</th>\n      <td>Zimbabwe</td>\n      <td>Africa</td>\n      <td>14862927.0</td>\n      <td>61.49</td>\n      <td>1.70</td>\n      <td>1899.775</td>\n    </tr>\n  </tbody>\n</table>\n<p>210 rows × 6 columns</p>\n</div>"
     },
     "metadata": {},
     "execution_count": 13
    }
   ],
   "source": [
    "countries_df"
   ]
  },
  {
   "cell_type": "markdown",
   "metadata": {},
   "source": [
    "**Q: How many countries does the dataframe contain?**\n",
    "\n",
    "Hint: Use the `.shape` method."
   ]
  },
  {
   "cell_type": "code",
   "execution_count": 14,
   "metadata": {},
   "outputs": [
    {
     "output_type": "execute_result",
     "data": {
      "text/plain": "(210,)"
     },
     "metadata": {},
     "execution_count": 14
    }
   ],
   "source": [
    "num_countries = countries_df[\"location\"].shape\n",
    "num_countries"
   ]
  },
  {
   "cell_type": "code",
   "execution_count": 15,
   "metadata": {
    "tags": []
   },
   "outputs": [
    {
     "output_type": "stream",
     "name": "stdout",
     "text": "There are (210,) countries in the dataset\n"
    }
   ],
   "source": [
    "print('There are {} countries in the dataset'.format(num_countries))"
   ]
  },
  {
   "cell_type": "code",
   "execution_count": 16,
   "metadata": {
    "tags": []
   },
   "outputs": [
    {
     "output_type": "display_data",
     "data": {
      "text/plain": "<IPython.core.display.Javascript object>",
      "application/javascript": "window.require && require([\"base/js/namespace\"],function(Jupyter){Jupyter.notebook.save_checkpoint()})"
     },
     "metadata": {}
    },
    {
     "output_type": "stream",
     "name": "stdout",
     "text": "[jovian] Attempting to save notebook..\u001b[0m\n[jovian] Updating notebook \"charitarthchugh/pandas-practice-assignment\" on https://jovian.ml/\u001b[0m\n[jovian] Uploading notebook..\u001b[0m\n[jovian] Git repository identified. Performing git commit...\u001b[0m\n[jovian] Attaching records (metrics, hyperparameters, dataset etc.)\u001b[0m\n[jovian] Committed successfully! https://jovian.ml/charitarthchugh/pandas-practice-assignment\u001b[0m\n"
    },
    {
     "output_type": "execute_result",
     "data": {
      "text/plain": "('https://jovian.ml/charitarthchugh/pandas-practice-assignment',)"
     },
     "metadata": {},
     "execution_count": 16
    }
   ],
   "source": [
    "jovian.commit(project='pandas-practice-assignment', environment=None, filename= filename, git_commit=True, git_message=\"Update pandas-practice-assignment\"),"
   ]
  },
  {
   "cell_type": "markdown",
   "metadata": {},
   "source": [
    "**Q: Retrieve a list of continents from the dataframe?**\n",
    "\n",
    "*Hint: Use the `.unique` method of a series.*"
   ]
  },
  {
   "cell_type": "code",
   "execution_count": 17,
   "metadata": {
    "tags": []
   },
   "outputs": [
    {
     "output_type": "stream",
     "name": "stdout",
     "text": "Asia\n\nEurope\n\nAfrica\n\nNorth America\n\nSouth America\n\nOceania\n\n"
    }
   ],
   "source": [
    "continents = countries_df[\"continent\"].unique()\n",
    "for c in continents: print(c + \"\\n\")"
   ]
  },
  {
   "cell_type": "code",
   "execution_count": 18,
   "metadata": {
    "tags": []
   },
   "outputs": [
    {
     "output_type": "stream",
     "name": "stdout",
     "text": "Cleared output\n"
    },
    {
     "output_type": "display_data",
     "data": {
      "text/plain": "<IPython.core.display.Javascript object>",
      "application/javascript": "window.require && require([\"base/js/namespace\"],function(Jupyter){Jupyter.notebook.save_checkpoint()})"
     },
     "metadata": {}
    },
    {
     "output_type": "stream",
     "name": "stdout",
     "text": "[jovian] Attempting to save notebook..\u001b[0m\n[jovian] Updating notebook \"charitarthchugh/pandas-practice-assignment\" on https://jovian.ml/\u001b[0m\n[jovian] Uploading notebook..\u001b[0m\n[jovian] Capturing environment..\u001b[0m\n[jovian] Git repository identified. Performing git commit...\u001b[0m\n[jovian] Attaching records (metrics, hyperparameters, dataset etc.)\u001b[0m\n[jovian] Committed successfully! https://jovian.ml/charitarthchugh/pandas-practice-assignment\u001b[0m\nEnumerating objects: 11, done.\nCounting objects: 100% (11/11), done.\nDelta compression using up to 24 threads\nCompressing objects: 100% (8/8), done.\nWriting objects: 100% (8/8), 1.49 KiB | 762.00 KiB/s, done.\nTotal 8 (delta 6), reused 0 (delta 0), pack-reused 0\nremote: Resolving deltas: 100% (6/6), completed with 3 local objects.\u001b[K\nTo https://github.com/charitarthchugh/ZeroToPandas.git\n   b05dd7e..e720eb2  master -> master\nDone!\n"
    }
   ],
   "source": [
    "commit()"
   ]
  },
  {
   "cell_type": "markdown",
   "metadata": {},
   "source": [
    "**Q: What is the total population of all the countries listed in this dataset?**"
   ]
  },
  {
   "cell_type": "code",
   "execution_count": 19,
   "metadata": {},
   "outputs": [],
   "source": [
    "total_population = countries_df[\"population\"].sum()"
   ]
  },
  {
   "cell_type": "code",
   "execution_count": 20,
   "metadata": {
    "tags": []
   },
   "outputs": [
    {
     "output_type": "stream",
     "name": "stdout",
     "text": "The total population is 7757980095.0.\n"
    }
   ],
   "source": [
    "print('The total population is {}.'.format(total_population))"
   ]
  },
  {
   "cell_type": "code",
   "execution_count": 21,
   "metadata": {
    "tags": []
   },
   "outputs": [
    {
     "output_type": "display_data",
     "data": {
      "text/plain": "<IPython.core.display.Javascript object>",
      "application/javascript": "window.require && require([\"base/js/namespace\"],function(Jupyter){Jupyter.notebook.save_checkpoint()})"
     },
     "metadata": {}
    },
    {
     "output_type": "stream",
     "name": "stdout",
     "text": "[jovian] Attempting to save notebook..\u001b[0m\n\u001b[31m[jovian] Error: Failed to detect notebook filename. Please provide the correct notebook filename as the \"filename\" argument to \"jovian.commit\".\u001b[0m\n"
    }
   ],
   "source": [
    "jovian.commit(project='pandas-practice-assignment', environment=None)"
   ]
  },
  {
   "cell_type": "markdown",
   "metadata": {},
   "source": [
    "**Q: (Optional) What is the overall life expectancy across in the world?**\n",
    "\n",
    "*Hint: You'll need to take a weighted average of life expectancy using populations as weights.*"
   ]
  },
  {
   "cell_type": "code",
   "execution_count": 42,
   "metadata": {
    "tags": []
   },
   "outputs": [
    {
     "output_type": "stream",
     "name": "stdout",
     "text": "<bound method IndexOpsMixin.tolist of 0      38928341.0\n1       2877800.0\n2      43851043.0\n3         77265.0\n4      32866268.0\n          ...    \n205    97338583.0\n206      597330.0\n207    29825968.0\n208    18383956.0\n209    14862927.0\nName: population, Length: 210, dtype: float64>\n"
    }
   ],
   "source": []
  },
  {
   "cell_type": "code",
   "execution_count": 22,
   "metadata": {
    "tags": []
   },
   "outputs": [
    {
     "output_type": "display_data",
     "data": {
      "text/plain": "<IPython.core.display.Javascript object>",
      "application/javascript": "window.require && require([\"base/js/namespace\"],function(Jupyter){Jupyter.notebook.save_checkpoint()})"
     },
     "metadata": {}
    },
    {
     "output_type": "stream",
     "name": "stdout",
     "text": "[jovian] Attempting to save notebook..\u001b[0m\n\u001b[31m[jovian] Error: Failed to detect notebook filename. Please provide the correct notebook filename as the \"filename\" argument to \"jovian.commit\".\u001b[0m\n"
    }
   ],
   "source": [
    "jovian.commit(project='pandas-practice-assignment', environment=None)"
   ]
  },
  {
   "cell_type": "markdown",
   "metadata": {},
   "source": [
    "**Q: Create a dataframe containing 10 countries with the highest population.**\n",
    "\n",
    "*Hint: Chain the `sort_values` and `head` methods.*"
   ]
  },
  {
   "cell_type": "code",
   "execution_count": 51,
   "metadata": {},
   "outputs": [
    {
     "output_type": "execute_result",
     "data": {
      "text/plain": "          location      continent    population  life_expectancy  \\\n41           China           Asia  1.439324e+09            76.91   \n90           India           Asia  1.380004e+09            69.66   \n199  United States  North America  3.310026e+08            78.86   \n91       Indonesia           Asia  2.735236e+08            71.72   \n145       Pakistan           Asia  2.208923e+08            67.27   \n27          Brazil  South America  2.125594e+08            75.88   \n141        Nigeria         Africa  2.061396e+08            54.69   \n15      Bangladesh           Asia  1.646894e+08            72.59   \n157         Russia         Europe  1.459345e+08            72.58   \n125         Mexico  North America  1.289328e+08            75.05   \n\n     hospital_beds_per_thousand  gdp_per_capita           gdp  \n41                         4.34       15308.712  2.203419e+13  \n90                         0.53        6426.674  8.868838e+12  \n199                        2.77       54225.446  1.794877e+13  \n91                         1.04       11188.744  3.060386e+12  \n145                        0.60        5034.708  1.112128e+12  \n27                         2.20       14103.452  2.997821e+12  \n141                         NaN        5338.454  1.100467e+12  \n15                         0.80        3523.984  5.803628e+11  \n157                        8.05       24765.954  3.614206e+12  \n125                        1.38       17336.469  2.235239e+12  ",
      "text/html": "<div>\n<style scoped>\n    .dataframe tbody tr th:only-of-type {\n        vertical-align: middle;\n    }\n\n    .dataframe tbody tr th {\n        vertical-align: top;\n    }\n\n    .dataframe thead th {\n        text-align: right;\n    }\n</style>\n<table border=\"1\" class=\"dataframe\">\n  <thead>\n    <tr style=\"text-align: right;\">\n      <th></th>\n      <th>location</th>\n      <th>continent</th>\n      <th>population</th>\n      <th>life_expectancy</th>\n      <th>hospital_beds_per_thousand</th>\n      <th>gdp_per_capita</th>\n      <th>gdp</th>\n    </tr>\n  </thead>\n  <tbody>\n    <tr>\n      <th>41</th>\n      <td>China</td>\n      <td>Asia</td>\n      <td>1.439324e+09</td>\n      <td>76.91</td>\n      <td>4.34</td>\n      <td>15308.712</td>\n      <td>2.203419e+13</td>\n    </tr>\n    <tr>\n      <th>90</th>\n      <td>India</td>\n      <td>Asia</td>\n      <td>1.380004e+09</td>\n      <td>69.66</td>\n      <td>0.53</td>\n      <td>6426.674</td>\n      <td>8.868838e+12</td>\n    </tr>\n    <tr>\n      <th>199</th>\n      <td>United States</td>\n      <td>North America</td>\n      <td>3.310026e+08</td>\n      <td>78.86</td>\n      <td>2.77</td>\n      <td>54225.446</td>\n      <td>1.794877e+13</td>\n    </tr>\n    <tr>\n      <th>91</th>\n      <td>Indonesia</td>\n      <td>Asia</td>\n      <td>2.735236e+08</td>\n      <td>71.72</td>\n      <td>1.04</td>\n      <td>11188.744</td>\n      <td>3.060386e+12</td>\n    </tr>\n    <tr>\n      <th>145</th>\n      <td>Pakistan</td>\n      <td>Asia</td>\n      <td>2.208923e+08</td>\n      <td>67.27</td>\n      <td>0.60</td>\n      <td>5034.708</td>\n      <td>1.112128e+12</td>\n    </tr>\n    <tr>\n      <th>27</th>\n      <td>Brazil</td>\n      <td>South America</td>\n      <td>2.125594e+08</td>\n      <td>75.88</td>\n      <td>2.20</td>\n      <td>14103.452</td>\n      <td>2.997821e+12</td>\n    </tr>\n    <tr>\n      <th>141</th>\n      <td>Nigeria</td>\n      <td>Africa</td>\n      <td>2.061396e+08</td>\n      <td>54.69</td>\n      <td>NaN</td>\n      <td>5338.454</td>\n      <td>1.100467e+12</td>\n    </tr>\n    <tr>\n      <th>15</th>\n      <td>Bangladesh</td>\n      <td>Asia</td>\n      <td>1.646894e+08</td>\n      <td>72.59</td>\n      <td>0.80</td>\n      <td>3523.984</td>\n      <td>5.803628e+11</td>\n    </tr>\n    <tr>\n      <th>157</th>\n      <td>Russia</td>\n      <td>Europe</td>\n      <td>1.459345e+08</td>\n      <td>72.58</td>\n      <td>8.05</td>\n      <td>24765.954</td>\n      <td>3.614206e+12</td>\n    </tr>\n    <tr>\n      <th>125</th>\n      <td>Mexico</td>\n      <td>North America</td>\n      <td>1.289328e+08</td>\n      <td>75.05</td>\n      <td>1.38</td>\n      <td>17336.469</td>\n      <td>2.235239e+12</td>\n    </tr>\n  </tbody>\n</table>\n</div>"
     },
     "metadata": {},
     "execution_count": 51
    }
   ],
   "source": [
    "most_populous_df = countries_df.sort_values(\"population\", ascending=False ).head(10)\n",
    "most_populous_df"
   ]
  },
  {
   "cell_type": "code",
   "execution_count": 24,
   "metadata": {
    "tags": []
   },
   "outputs": [
    {
     "output_type": "display_data",
     "data": {
      "text/plain": "<IPython.core.display.Javascript object>",
      "application/javascript": "window.require && require([\"base/js/namespace\"],function(Jupyter){Jupyter.notebook.save_checkpoint()})"
     },
     "metadata": {}
    },
    {
     "output_type": "stream",
     "name": "stdout",
     "text": "[jovian] Attempting to save notebook..\u001b[0m\n[jovian] Updating notebook \"charitarthchugh/pandas-practice-assignment\" on https://jovian.ml/\u001b[0m\n[jovian] Uploading notebook..\u001b[0m\n[jovian] Capturing environment..\u001b[0m\n[jovian] Attaching records (metrics, hyperparameters, dataset etc.)\u001b[0m\n[jovian] Committed successfully! https://jovian.ml/charitarthchugh/pandas-practice-assignment\u001b[0m\n"
    },
    {
     "output_type": "execute_result",
     "data": {
      "text/plain": "'https://jovian.ml/charitarthchugh/pandas-practice-assignment'"
     },
     "metadata": {},
     "execution_count": 24
    }
   ],
   "source": [
    "jovian.commit(filename=filename)"
   ]
  },
  {
   "cell_type": "markdown",
   "metadata": {},
   "source": [
    "**Q: Add a new column in `countries_df` to record the overall GDP per country (product of population & per capita GDP).**\n",
    "\n"
   ]
  },
  {
   "cell_type": "code",
   "execution_count": 25,
   "metadata": {},
   "outputs": [
    {
     "output_type": "execute_result",
     "data": {
      "text/plain": "           location continent  population  life_expectancy  \\\n0       Afghanistan      Asia  38928341.0            64.83   \n1           Albania    Europe   2877800.0            78.57   \n2           Algeria    Africa  43851043.0            76.88   \n3           Andorra    Europe     77265.0            83.73   \n4            Angola    Africa  32866268.0            61.15   \n..              ...       ...         ...              ...   \n205         Vietnam      Asia  97338583.0            75.40   \n206  Western Sahara    Africa    597330.0            70.26   \n207           Yemen      Asia  29825968.0            66.12   \n208          Zambia    Africa  18383956.0            63.89   \n209        Zimbabwe    Africa  14862927.0            61.49   \n\n     hospital_beds_per_thousand  gdp_per_capita           gdp  \n0                          0.50        1803.987  7.022622e+10  \n1                          2.89       11803.431  3.396791e+10  \n2                          1.90       13913.839  6.101364e+11  \n3                           NaN             NaN           NaN  \n4                           NaN        5819.495  1.912651e+11  \n..                          ...             ...           ...  \n205                        2.60        6171.884  6.007624e+11  \n206                         NaN             NaN           NaN  \n207                        0.70        1479.147  4.411699e+10  \n208                        2.00        3689.251  6.782303e+10  \n209                        1.70        1899.775  2.823622e+10  \n\n[210 rows x 7 columns]",
      "text/html": "<div>\n<style scoped>\n    .dataframe tbody tr th:only-of-type {\n        vertical-align: middle;\n    }\n\n    .dataframe tbody tr th {\n        vertical-align: top;\n    }\n\n    .dataframe thead th {\n        text-align: right;\n    }\n</style>\n<table border=\"1\" class=\"dataframe\">\n  <thead>\n    <tr style=\"text-align: right;\">\n      <th></th>\n      <th>location</th>\n      <th>continent</th>\n      <th>population</th>\n      <th>life_expectancy</th>\n      <th>hospital_beds_per_thousand</th>\n      <th>gdp_per_capita</th>\n      <th>gdp</th>\n    </tr>\n  </thead>\n  <tbody>\n    <tr>\n      <th>0</th>\n      <td>Afghanistan</td>\n      <td>Asia</td>\n      <td>38928341.0</td>\n      <td>64.83</td>\n      <td>0.50</td>\n      <td>1803.987</td>\n      <td>7.022622e+10</td>\n    </tr>\n    <tr>\n      <th>1</th>\n      <td>Albania</td>\n      <td>Europe</td>\n      <td>2877800.0</td>\n      <td>78.57</td>\n      <td>2.89</td>\n      <td>11803.431</td>\n      <td>3.396791e+10</td>\n    </tr>\n    <tr>\n      <th>2</th>\n      <td>Algeria</td>\n      <td>Africa</td>\n      <td>43851043.0</td>\n      <td>76.88</td>\n      <td>1.90</td>\n      <td>13913.839</td>\n      <td>6.101364e+11</td>\n    </tr>\n    <tr>\n      <th>3</th>\n      <td>Andorra</td>\n      <td>Europe</td>\n      <td>77265.0</td>\n      <td>83.73</td>\n      <td>NaN</td>\n      <td>NaN</td>\n      <td>NaN</td>\n    </tr>\n    <tr>\n      <th>4</th>\n      <td>Angola</td>\n      <td>Africa</td>\n      <td>32866268.0</td>\n      <td>61.15</td>\n      <td>NaN</td>\n      <td>5819.495</td>\n      <td>1.912651e+11</td>\n    </tr>\n    <tr>\n      <th>...</th>\n      <td>...</td>\n      <td>...</td>\n      <td>...</td>\n      <td>...</td>\n      <td>...</td>\n      <td>...</td>\n      <td>...</td>\n    </tr>\n    <tr>\n      <th>205</th>\n      <td>Vietnam</td>\n      <td>Asia</td>\n      <td>97338583.0</td>\n      <td>75.40</td>\n      <td>2.60</td>\n      <td>6171.884</td>\n      <td>6.007624e+11</td>\n    </tr>\n    <tr>\n      <th>206</th>\n      <td>Western Sahara</td>\n      <td>Africa</td>\n      <td>597330.0</td>\n      <td>70.26</td>\n      <td>NaN</td>\n      <td>NaN</td>\n      <td>NaN</td>\n    </tr>\n    <tr>\n      <th>207</th>\n      <td>Yemen</td>\n      <td>Asia</td>\n      <td>29825968.0</td>\n      <td>66.12</td>\n      <td>0.70</td>\n      <td>1479.147</td>\n      <td>4.411699e+10</td>\n    </tr>\n    <tr>\n      <th>208</th>\n      <td>Zambia</td>\n      <td>Africa</td>\n      <td>18383956.0</td>\n      <td>63.89</td>\n      <td>2.00</td>\n      <td>3689.251</td>\n      <td>6.782303e+10</td>\n    </tr>\n    <tr>\n      <th>209</th>\n      <td>Zimbabwe</td>\n      <td>Africa</td>\n      <td>14862927.0</td>\n      <td>61.49</td>\n      <td>1.70</td>\n      <td>1899.775</td>\n      <td>2.823622e+10</td>\n    </tr>\n  </tbody>\n</table>\n<p>210 rows × 7 columns</p>\n</div>"
     },
     "metadata": {},
     "execution_count": 25
    }
   ],
   "source": [
    "countries_df['gdp'] = countries_df.population*countries_df.gdp_per_capita\n",
    "countries_df"
   ]
  },
  {
   "cell_type": "code",
   "execution_count": 26,
   "metadata": {
    "tags": []
   },
   "outputs": [
    {
     "output_type": "display_data",
     "data": {
      "text/plain": "<IPython.core.display.Javascript object>",
      "application/javascript": "window.require && require([\"base/js/namespace\"],function(Jupyter){Jupyter.notebook.save_checkpoint()})"
     },
     "metadata": {}
    },
    {
     "output_type": "stream",
     "name": "stdout",
     "text": "[jovian] Attempting to save notebook..\u001b[0m\n[jovian] Updating notebook \"charitarthchugh/pandas-practice-assignment\" on https://jovian.ml/\u001b[0m\n[jovian] Uploading notebook..\u001b[0m\n[jovian] Capturing environment..\u001b[0m\n[jovian] Attaching records (metrics, hyperparameters, dataset etc.)\u001b[0m\n[jovian] Committed successfully! https://jovian.ml/charitarthchugh/pandas-practice-assignment\u001b[0m\n"
    },
    {
     "output_type": "execute_result",
     "data": {
      "text/plain": "'https://jovian.ml/charitarthchugh/pandas-practice-assignment'"
     },
     "metadata": {},
     "execution_count": 26
    }
   ],
   "source": [
    "jovian.commit(filename=filename)"
   ]
  },
  {
   "cell_type": "markdown",
   "metadata": {},
   "source": [
    "**Q: (Optional) Create a dataframe containing 10 countries with the lowest GDP per capita, among the counties with population greater than 100 million.**"
   ]
  },
  {
   "cell_type": "code",
   "execution_count": 46,
   "metadata": {
    "tags": []
   },
   "outputs": [
    {
     "output_type": "display_data",
     "data": {
      "text/plain": "<IPython.core.display.Javascript object>",
      "application/javascript": "window.require && require([\"base/js/namespace\"],function(Jupyter){Jupyter.notebook.save_checkpoint()})"
     },
     "metadata": {}
    },
    {
     "output_type": "stream",
     "name": "stdout",
     "text": "[jovian] Attempting to save notebook..\u001b[0m\n[jovian] Updating notebook \"charitarthchugh/pandas-practice-assignment\" on https://jovian.ml/\u001b[0m\n[jovian] Uploading notebook..\u001b[0m\n[jovian] Capturing environment..\u001b[0m\n[jovian] Git repository identified. Performing git commit...\u001b[0m\n[jovian] Attaching records (metrics, hyperparameters, dataset etc.)\u001b[0m\n[jovian] Committed successfully! https://jovian.ml/charitarthchugh/pandas-practice-assignment\u001b[0m\nEnumerating objects: 7, done.\nCounting objects: 100% (7/7), done.\nDelta compression using up to 24 threads\nCompressing objects: 100% (4/4), done.\nWriting objects: 100% (4/4), 524 bytes | 524.00 KiB/s, done.\nTotal 4 (delta 3), reused 0 (delta 0), pack-reused 0\nremote: Resolving deltas: 100% (3/3), completed with 3 local objects.\u001b[K\nTo https://github.com/charitarthchugh/ZeroToPandas.git\n   791b323..12316cc  master -> master\nDone!\n"
    }
   ],
   "source": [
    "commit()"
   ]
  },
  {
   "cell_type": "markdown",
   "metadata": {},
   "source": [
    "**Q: Create a data frame that counts the number countries in each continent?**\n",
    "\n",
    "*Hint: Use `groupby`, select the `location` column and aggregate using `count`.*"
   ]
  },
  {
   "cell_type": "code",
   "execution_count": 28,
   "metadata": {},
   "outputs": [
    {
     "output_type": "execute_result",
     "data": {
      "text/plain": "               location\ncontinent              \nAfrica               55\nAsia                 47\nEurope               51\nNorth America        36\nOceania               8\nSouth America        13",
      "text/html": "<div>\n<style scoped>\n    .dataframe tbody tr th:only-of-type {\n        vertical-align: middle;\n    }\n\n    .dataframe tbody tr th {\n        vertical-align: top;\n    }\n\n    .dataframe thead th {\n        text-align: right;\n    }\n</style>\n<table border=\"1\" class=\"dataframe\">\n  <thead>\n    <tr style=\"text-align: right;\">\n      <th></th>\n      <th>location</th>\n    </tr>\n    <tr>\n      <th>continent</th>\n      <th></th>\n    </tr>\n  </thead>\n  <tbody>\n    <tr>\n      <th>Africa</th>\n      <td>55</td>\n    </tr>\n    <tr>\n      <th>Asia</th>\n      <td>47</td>\n    </tr>\n    <tr>\n      <th>Europe</th>\n      <td>51</td>\n    </tr>\n    <tr>\n      <th>North America</th>\n      <td>36</td>\n    </tr>\n    <tr>\n      <th>Oceania</th>\n      <td>8</td>\n    </tr>\n    <tr>\n      <th>South America</th>\n      <td>13</td>\n    </tr>\n  </tbody>\n</table>\n</div>"
     },
     "metadata": {},
     "execution_count": 28
    }
   ],
   "source": [
    "country_counts_df = countries_df.groupby(\"continent\")[[\"location\"]].count()\n",
    "country_counts_df"
   ]
  },
  {
   "cell_type": "code",
   "execution_count": 47,
   "metadata": {
    "tags": []
   },
   "outputs": [
    {
     "output_type": "display_data",
     "data": {
      "text/plain": "<IPython.core.display.Javascript object>",
      "application/javascript": "window.require && require([\"base/js/namespace\"],function(Jupyter){Jupyter.notebook.save_checkpoint()})"
     },
     "metadata": {}
    },
    {
     "output_type": "stream",
     "name": "stdout",
     "text": "[jovian] Attempting to save notebook..\u001b[0m\n[jovian] Updating notebook \"charitarthchugh/pandas-practice-assignment\" on https://jovian.ml/\u001b[0m\n[jovian] Uploading notebook..\u001b[0m\n[jovian] Capturing environment..\u001b[0m\n[jovian] Git repository identified. Performing git commit...\u001b[0m\n[jovian] Attaching records (metrics, hyperparameters, dataset etc.)\u001b[0m\n[jovian] Committed successfully! https://jovian.ml/charitarthchugh/pandas-practice-assignment\u001b[0m\nEnumerating objects: 7, done.\nCounting objects: 100% (7/7), done.\nDelta compression using up to 24 threads\nCompressing objects: 100% (4/4), done.\nWriting objects: 100% (4/4), 461 bytes | 461.00 KiB/s, done.\nTotal 4 (delta 3), reused 0 (delta 0), pack-reused 0\nremote: Resolving deltas: 100% (3/3), completed with 3 local objects.\u001b[K\nTo https://github.com/charitarthchugh/ZeroToPandas.git\n   12316cc..46de21b  master -> master\nDone!\n"
    }
   ],
   "source": [
    "commit()"
   ]
  },
  {
   "cell_type": "markdown",
   "metadata": {},
   "source": [
    "**Q: Create a data frame showing the total population of each continent.**\n",
    "\n",
    "*Hint: Use `groupby`, select the population column and aggregate using `sum`.*"
   ]
  },
  {
   "cell_type": "code",
   "execution_count": 30,
   "metadata": {},
   "outputs": [
    {
     "output_type": "execute_result",
     "data": {
      "text/plain": "                 population\ncontinent                  \nAfrica         1.339424e+09\nAsia           4.607388e+09\nEurope         7.485062e+08\nNorth America  5.912425e+08\nOceania        4.095832e+07\nSouth America  4.304611e+08",
      "text/html": "<div>\n<style scoped>\n    .dataframe tbody tr th:only-of-type {\n        vertical-align: middle;\n    }\n\n    .dataframe tbody tr th {\n        vertical-align: top;\n    }\n\n    .dataframe thead th {\n        text-align: right;\n    }\n</style>\n<table border=\"1\" class=\"dataframe\">\n  <thead>\n    <tr style=\"text-align: right;\">\n      <th></th>\n      <th>population</th>\n    </tr>\n    <tr>\n      <th>continent</th>\n      <th></th>\n    </tr>\n  </thead>\n  <tbody>\n    <tr>\n      <th>Africa</th>\n      <td>1.339424e+09</td>\n    </tr>\n    <tr>\n      <th>Asia</th>\n      <td>4.607388e+09</td>\n    </tr>\n    <tr>\n      <th>Europe</th>\n      <td>7.485062e+08</td>\n    </tr>\n    <tr>\n      <th>North America</th>\n      <td>5.912425e+08</td>\n    </tr>\n    <tr>\n      <th>Oceania</th>\n      <td>4.095832e+07</td>\n    </tr>\n    <tr>\n      <th>South America</th>\n      <td>4.304611e+08</td>\n    </tr>\n  </tbody>\n</table>\n</div>"
     },
     "metadata": {},
     "execution_count": 30
    }
   ],
   "source": [
    "continent_populations_df = countries_df.groupby(\"continent\")[[\"population\"]].sum()\n",
    "continent_populations_df"
   ]
  },
  {
   "cell_type": "code",
   "execution_count": 31,
   "metadata": {
    "tags": []
   },
   "outputs": [
    {
     "output_type": "stream",
     "name": "stdout",
     "text": "Cleared output\n"
    },
    {
     "output_type": "display_data",
     "data": {
      "text/plain": "<IPython.core.display.Javascript object>",
      "application/javascript": "window.require && require([\"base/js/namespace\"],function(Jupyter){Jupyter.notebook.save_checkpoint()})"
     },
     "metadata": {}
    },
    {
     "output_type": "stream",
     "name": "stdout",
     "text": "[jovian] Attempting to save notebook..\u001b[0m\n[jovian] Updating notebook \"charitarthchugh/pandas-practice-assignment\" on https://jovian.ml/\u001b[0m\n[jovian] Uploading notebook..\u001b[0m\n[jovian] Capturing environment..\u001b[0m\n[jovian] Git repository identified. Performing git commit...\u001b[0m\n[jovian] Attaching records (metrics, hyperparameters, dataset etc.)\u001b[0m\n[jovian] Committed successfully! https://jovian.ml/charitarthchugh/pandas-practice-assignment\u001b[0m\nEnumerating objects: 7, done.\nCounting objects: 100% (7/7), done.\nDelta compression using up to 24 threads\nCompressing objects: 100% (4/4), done.\nWriting objects: 100% (4/4), 850 bytes | 850.00 KiB/s, done.\nTotal 4 (delta 3), reused 0 (delta 0), pack-reused 0\nremote: Resolving deltas: 100% (3/3), completed with 3 local objects.\u001b[K\nTo https://github.com/charitarthchugh/ZeroToPandas.git\n   e720eb2..be5d9da  master -> master\nDone!\n"
    }
   ],
   "source": [
    "commit()"
   ]
  },
  {
   "cell_type": "markdown",
   "metadata": {},
   "source": [
    "Let's download another CSV file containing overall Covid-19 stats for various countires, and read the data into another Pandas data frame."
   ]
  },
  {
   "cell_type": "code",
   "execution_count": 32,
   "metadata": {},
   "outputs": [
    {
     "output_type": "execute_result",
     "data": {
      "text/plain": "('covid-countries-data.csv', <http.client.HTTPMessage at 0x7f43e6d7c5b0>)"
     },
     "metadata": {},
     "execution_count": 32
    }
   ],
   "source": [
    "urlretrieve('https://hub.jovian.ml/wp-content/uploads/2020/09/covid-countries-data.csv', \n",
    "            'covid-countries-data.csv')"
   ]
  },
  {
   "cell_type": "code",
   "execution_count": 48,
   "metadata": {},
   "outputs": [],
   "source": [
    "covid_data_df = pd.read_csv('covid-countries-data.csv')"
   ]
  },
  {
   "cell_type": "code",
   "execution_count": 49,
   "metadata": {
    "scrolled": true
   },
   "outputs": [
    {
     "output_type": "execute_result",
     "data": {
      "text/plain": "           location  total_cases  total_deaths  total_tests\n0       Afghanistan      38243.0        1409.0          NaN\n1           Albania       9728.0         296.0          NaN\n2           Algeria      45158.0        1525.0          NaN\n3           Andorra       1199.0          53.0          NaN\n4            Angola       2729.0         109.0          NaN\n..              ...          ...           ...          ...\n207  Western Sahara        766.0           1.0          NaN\n208           World   26059065.0      863535.0          NaN\n209           Yemen       1976.0         571.0          NaN\n210          Zambia      12415.0         292.0          NaN\n211        Zimbabwe       6638.0         206.0      97272.0\n\n[212 rows x 4 columns]",
      "text/html": "<div>\n<style scoped>\n    .dataframe tbody tr th:only-of-type {\n        vertical-align: middle;\n    }\n\n    .dataframe tbody tr th {\n        vertical-align: top;\n    }\n\n    .dataframe thead th {\n        text-align: right;\n    }\n</style>\n<table border=\"1\" class=\"dataframe\">\n  <thead>\n    <tr style=\"text-align: right;\">\n      <th></th>\n      <th>location</th>\n      <th>total_cases</th>\n      <th>total_deaths</th>\n      <th>total_tests</th>\n    </tr>\n  </thead>\n  <tbody>\n    <tr>\n      <th>0</th>\n      <td>Afghanistan</td>\n      <td>38243.0</td>\n      <td>1409.0</td>\n      <td>NaN</td>\n    </tr>\n    <tr>\n      <th>1</th>\n      <td>Albania</td>\n      <td>9728.0</td>\n      <td>296.0</td>\n      <td>NaN</td>\n    </tr>\n    <tr>\n      <th>2</th>\n      <td>Algeria</td>\n      <td>45158.0</td>\n      <td>1525.0</td>\n      <td>NaN</td>\n    </tr>\n    <tr>\n      <th>3</th>\n      <td>Andorra</td>\n      <td>1199.0</td>\n      <td>53.0</td>\n      <td>NaN</td>\n    </tr>\n    <tr>\n      <th>4</th>\n      <td>Angola</td>\n      <td>2729.0</td>\n      <td>109.0</td>\n      <td>NaN</td>\n    </tr>\n    <tr>\n      <th>...</th>\n      <td>...</td>\n      <td>...</td>\n      <td>...</td>\n      <td>...</td>\n    </tr>\n    <tr>\n      <th>207</th>\n      <td>Western Sahara</td>\n      <td>766.0</td>\n      <td>1.0</td>\n      <td>NaN</td>\n    </tr>\n    <tr>\n      <th>208</th>\n      <td>World</td>\n      <td>26059065.0</td>\n      <td>863535.0</td>\n      <td>NaN</td>\n    </tr>\n    <tr>\n      <th>209</th>\n      <td>Yemen</td>\n      <td>1976.0</td>\n      <td>571.0</td>\n      <td>NaN</td>\n    </tr>\n    <tr>\n      <th>210</th>\n      <td>Zambia</td>\n      <td>12415.0</td>\n      <td>292.0</td>\n      <td>NaN</td>\n    </tr>\n    <tr>\n      <th>211</th>\n      <td>Zimbabwe</td>\n      <td>6638.0</td>\n      <td>206.0</td>\n      <td>97272.0</td>\n    </tr>\n  </tbody>\n</table>\n<p>212 rows × 4 columns</p>\n</div>"
     },
     "metadata": {},
     "execution_count": 49
    }
   ],
   "source": [
    "covid_data_df"
   ]
  },
  {
   "cell_type": "markdown",
   "metadata": {},
   "source": [
    "**Q: Count the number of countries for which the `total_tests` data is missing.**\n",
    "\n",
    "*Hint: Use the `.isna` method.*"
   ]
  },
  {
   "cell_type": "code",
   "execution_count": 43,
   "metadata": {},
   "outputs": [],
   "source": [
    "total_tests_missing = covid_data_df.total_tests.isna() .count() "
   ]
  },
  {
   "cell_type": "code",
   "execution_count": 44,
   "metadata": {
    "tags": []
   },
   "outputs": [
    {
     "output_type": "stream",
     "name": "stdout",
     "text": "The data for total tests is missing for 212 countries.\n"
    }
   ],
   "source": [
    "print(\"The data for total tests is missing for {} countries.\".format(total_tests_missing))"
   ]
  },
  {
   "cell_type": "code",
   "execution_count": 52,
   "metadata": {
    "tags": []
   },
   "outputs": [
    {
     "output_type": "display_data",
     "data": {
      "text/plain": "<IPython.core.display.Javascript object>",
      "application/javascript": "window.require && require([\"base/js/namespace\"],function(Jupyter){Jupyter.notebook.save_checkpoint()})"
     },
     "metadata": {}
    },
    {
     "output_type": "stream",
     "name": "stdout",
     "text": "[jovian] Attempting to save notebook..\u001b[0m\n[jovian] Updating notebook \"charitarthchugh/pandas-practice-assignment\" on https://jovian.ml/\u001b[0m\n[jovian] Uploading notebook..\u001b[0m\n[jovian] Capturing environment..\u001b[0m\n[jovian] Git repository identified. Performing git commit...\u001b[0m\n[jovian] Attaching records (metrics, hyperparameters, dataset etc.)\u001b[0m\n[jovian] Committed successfully! https://jovian.ml/charitarthchugh/pandas-practice-assignment\u001b[0m\nEnumerating objects: 7, done.\nCounting objects: 100% (7/7), done.\nDelta compression using up to 24 threads\nCompressing objects: 100% (4/4), done.\nWriting objects: 100% (4/4), 1.12 KiB | 574.00 KiB/s, done.\nTotal 4 (delta 3), reused 0 (delta 0), pack-reused 0\nremote: Resolving deltas: 100% (3/3), completed with 3 local objects.\u001b[K\nTo https://github.com/charitarthchugh/ZeroToPandas.git\n   03a2e93..194df4d  master -> master\nDone!\n"
    }
   ],
   "source": [
    "commit()"
   ]
  },
  {
   "cell_type": "markdown",
   "metadata": {},
   "source": [
    "Let's merge the two data frames, and compute some more metrics.\n",
    "\n",
    "**Q: Merge `countries_df` with `covid_data_df` on the `location` column.**\n",
    "\n",
    "*Hint: Use the `.merge` method on `countries_df`."
   ]
  },
  {
   "cell_type": "code",
   "execution_count": 54,
   "metadata": {},
   "outputs": [
    {
     "output_type": "execute_result",
     "data": {
      "text/plain": "           location continent  population  life_expectancy  \\\n0       Afghanistan      Asia  38928341.0            64.83   \n1           Albania    Europe   2877800.0            78.57   \n2           Algeria    Africa  43851043.0            76.88   \n3           Andorra    Europe     77265.0            83.73   \n4            Angola    Africa  32866268.0            61.15   \n..              ...       ...         ...              ...   \n205         Vietnam      Asia  97338583.0            75.40   \n206  Western Sahara    Africa    597330.0            70.26   \n207           Yemen      Asia  29825968.0            66.12   \n208          Zambia    Africa  18383956.0            63.89   \n209        Zimbabwe    Africa  14862927.0            61.49   \n\n     hospital_beds_per_thousand  gdp_per_capita           gdp  total_cases  \\\n0                          0.50        1803.987  7.022622e+10      38243.0   \n1                          2.89       11803.431  3.396791e+10       9728.0   \n2                          1.90       13913.839  6.101364e+11      45158.0   \n3                           NaN             NaN           NaN       1199.0   \n4                           NaN        5819.495  1.912651e+11       2729.0   \n..                          ...             ...           ...          ...   \n205                        2.60        6171.884  6.007624e+11       1046.0   \n206                         NaN             NaN           NaN        766.0   \n207                        0.70        1479.147  4.411699e+10       1976.0   \n208                        2.00        3689.251  6.782303e+10      12415.0   \n209                        1.70        1899.775  2.823622e+10       6638.0   \n\n     total_deaths  total_tests  \n0          1409.0          NaN  \n1           296.0          NaN  \n2          1525.0          NaN  \n3            53.0          NaN  \n4           109.0          NaN  \n..            ...          ...  \n205          35.0     261004.0  \n206           1.0          NaN  \n207         571.0          NaN  \n208         292.0          NaN  \n209         206.0      97272.0  \n\n[210 rows x 10 columns]",
      "text/html": "<div>\n<style scoped>\n    .dataframe tbody tr th:only-of-type {\n        vertical-align: middle;\n    }\n\n    .dataframe tbody tr th {\n        vertical-align: top;\n    }\n\n    .dataframe thead th {\n        text-align: right;\n    }\n</style>\n<table border=\"1\" class=\"dataframe\">\n  <thead>\n    <tr style=\"text-align: right;\">\n      <th></th>\n      <th>location</th>\n      <th>continent</th>\n      <th>population</th>\n      <th>life_expectancy</th>\n      <th>hospital_beds_per_thousand</th>\n      <th>gdp_per_capita</th>\n      <th>gdp</th>\n      <th>total_cases</th>\n      <th>total_deaths</th>\n      <th>total_tests</th>\n    </tr>\n  </thead>\n  <tbody>\n    <tr>\n      <th>0</th>\n      <td>Afghanistan</td>\n      <td>Asia</td>\n      <td>38928341.0</td>\n      <td>64.83</td>\n      <td>0.50</td>\n      <td>1803.987</td>\n      <td>7.022622e+10</td>\n      <td>38243.0</td>\n      <td>1409.0</td>\n      <td>NaN</td>\n    </tr>\n    <tr>\n      <th>1</th>\n      <td>Albania</td>\n      <td>Europe</td>\n      <td>2877800.0</td>\n      <td>78.57</td>\n      <td>2.89</td>\n      <td>11803.431</td>\n      <td>3.396791e+10</td>\n      <td>9728.0</td>\n      <td>296.0</td>\n      <td>NaN</td>\n    </tr>\n    <tr>\n      <th>2</th>\n      <td>Algeria</td>\n      <td>Africa</td>\n      <td>43851043.0</td>\n      <td>76.88</td>\n      <td>1.90</td>\n      <td>13913.839</td>\n      <td>6.101364e+11</td>\n      <td>45158.0</td>\n      <td>1525.0</td>\n      <td>NaN</td>\n    </tr>\n    <tr>\n      <th>3</th>\n      <td>Andorra</td>\n      <td>Europe</td>\n      <td>77265.0</td>\n      <td>83.73</td>\n      <td>NaN</td>\n      <td>NaN</td>\n      <td>NaN</td>\n      <td>1199.0</td>\n      <td>53.0</td>\n      <td>NaN</td>\n    </tr>\n    <tr>\n      <th>4</th>\n      <td>Angola</td>\n      <td>Africa</td>\n      <td>32866268.0</td>\n      <td>61.15</td>\n      <td>NaN</td>\n      <td>5819.495</td>\n      <td>1.912651e+11</td>\n      <td>2729.0</td>\n      <td>109.0</td>\n      <td>NaN</td>\n    </tr>\n    <tr>\n      <th>...</th>\n      <td>...</td>\n      <td>...</td>\n      <td>...</td>\n      <td>...</td>\n      <td>...</td>\n      <td>...</td>\n      <td>...</td>\n      <td>...</td>\n      <td>...</td>\n      <td>...</td>\n    </tr>\n    <tr>\n      <th>205</th>\n      <td>Vietnam</td>\n      <td>Asia</td>\n      <td>97338583.0</td>\n      <td>75.40</td>\n      <td>2.60</td>\n      <td>6171.884</td>\n      <td>6.007624e+11</td>\n      <td>1046.0</td>\n      <td>35.0</td>\n      <td>261004.0</td>\n    </tr>\n    <tr>\n      <th>206</th>\n      <td>Western Sahara</td>\n      <td>Africa</td>\n      <td>597330.0</td>\n      <td>70.26</td>\n      <td>NaN</td>\n      <td>NaN</td>\n      <td>NaN</td>\n      <td>766.0</td>\n      <td>1.0</td>\n      <td>NaN</td>\n    </tr>\n    <tr>\n      <th>207</th>\n      <td>Yemen</td>\n      <td>Asia</td>\n      <td>29825968.0</td>\n      <td>66.12</td>\n      <td>0.70</td>\n      <td>1479.147</td>\n      <td>4.411699e+10</td>\n      <td>1976.0</td>\n      <td>571.0</td>\n      <td>NaN</td>\n    </tr>\n    <tr>\n      <th>208</th>\n      <td>Zambia</td>\n      <td>Africa</td>\n      <td>18383956.0</td>\n      <td>63.89</td>\n      <td>2.00</td>\n      <td>3689.251</td>\n      <td>6.782303e+10</td>\n      <td>12415.0</td>\n      <td>292.0</td>\n      <td>NaN</td>\n    </tr>\n    <tr>\n      <th>209</th>\n      <td>Zimbabwe</td>\n      <td>Africa</td>\n      <td>14862927.0</td>\n      <td>61.49</td>\n      <td>1.70</td>\n      <td>1899.775</td>\n      <td>2.823622e+10</td>\n      <td>6638.0</td>\n      <td>206.0</td>\n      <td>97272.0</td>\n    </tr>\n  </tbody>\n</table>\n<p>210 rows × 10 columns</p>\n</div>"
     },
     "metadata": {},
     "execution_count": 54
    }
   ],
   "source": [
    "combined_df = countries_df.merge(covid_data_df,on=\"location\")\n",
    "combined_df"
   ]
  },
  {
   "cell_type": "code",
   "execution_count": 55,
   "metadata": {
    "tags": []
   },
   "outputs": [
    {
     "output_type": "display_data",
     "data": {
      "text/plain": "<IPython.core.display.Javascript object>",
      "application/javascript": "window.require && require([\"base/js/namespace\"],function(Jupyter){Jupyter.notebook.save_checkpoint()})"
     },
     "metadata": {}
    },
    {
     "output_type": "stream",
     "name": "stdout",
     "text": "[jovian] Attempting to save notebook..\u001b[0m\n[jovian] Updating notebook \"charitarthchugh/pandas-practice-assignment\" on https://jovian.ml/\u001b[0m\n[jovian] Uploading notebook..\u001b[0m\n[jovian] Capturing environment..\u001b[0m\n[jovian] Git repository identified. Performing git commit...\u001b[0m\n[jovian] Attaching records (metrics, hyperparameters, dataset etc.)\u001b[0m\n[jovian] Committed successfully! https://jovian.ml/charitarthchugh/pandas-practice-assignment\u001b[0m\nEnumerating objects: 7, done.\nCounting objects: 100% (7/7), done.\nDelta compression using up to 24 threads\nCompressing objects: 100% (4/4), done.\nWriting objects: 100% (4/4), 1.02 KiB | 1.02 MiB/s, done.\nTotal 4 (delta 3), reused 0 (delta 0), pack-reused 0\nremote: Resolving deltas: 100% (3/3), completed with 3 local objects.\u001b[K\nTo https://github.com/charitarthchugh/ZeroToPandas.git\n   194df4d..20c0fde  master -> master\nDone!\n"
    }
   ],
   "source": [
    "commit()"
   ]
  },
  {
   "cell_type": "markdown",
   "metadata": {},
   "source": [
    "**Q: Add columns `tests_per_million`, `cases_per_million` and `deaths_per_million` into `combined_df`.**"
   ]
  },
  {
   "cell_type": "code",
   "execution_count": 56,
   "metadata": {},
   "outputs": [
    {
     "output_type": "execute_result",
     "data": {
      "text/plain": "           location continent  population  life_expectancy  \\\n0       Afghanistan      Asia  38928341.0            64.83   \n1           Albania    Europe   2877800.0            78.57   \n2           Algeria    Africa  43851043.0            76.88   \n3           Andorra    Europe     77265.0            83.73   \n4            Angola    Africa  32866268.0            61.15   \n..              ...       ...         ...              ...   \n205         Vietnam      Asia  97338583.0            75.40   \n206  Western Sahara    Africa    597330.0            70.26   \n207           Yemen      Asia  29825968.0            66.12   \n208          Zambia    Africa  18383956.0            63.89   \n209        Zimbabwe    Africa  14862927.0            61.49   \n\n     hospital_beds_per_thousand  gdp_per_capita           gdp  total_cases  \\\n0                          0.50        1803.987  7.022622e+10      38243.0   \n1                          2.89       11803.431  3.396791e+10       9728.0   \n2                          1.90       13913.839  6.101364e+11      45158.0   \n3                           NaN             NaN           NaN       1199.0   \n4                           NaN        5819.495  1.912651e+11       2729.0   \n..                          ...             ...           ...          ...   \n205                        2.60        6171.884  6.007624e+11       1046.0   \n206                         NaN             NaN           NaN        766.0   \n207                        0.70        1479.147  4.411699e+10       1976.0   \n208                        2.00        3689.251  6.782303e+10      12415.0   \n209                        1.70        1899.775  2.823622e+10       6638.0   \n\n     total_deaths  total_tests  tests_per_million  \n0          1409.0          NaN                NaN  \n1           296.0          NaN                NaN  \n2          1525.0          NaN                NaN  \n3            53.0          NaN                NaN  \n4           109.0          NaN                NaN  \n..            ...          ...                ...  \n205          35.0     261004.0        2681.403324  \n206           1.0          NaN                NaN  \n207         571.0          NaN                NaN  \n208         292.0          NaN                NaN  \n209         206.0      97272.0        6544.605918  \n\n[210 rows x 11 columns]",
      "text/html": "<div>\n<style scoped>\n    .dataframe tbody tr th:only-of-type {\n        vertical-align: middle;\n    }\n\n    .dataframe tbody tr th {\n        vertical-align: top;\n    }\n\n    .dataframe thead th {\n        text-align: right;\n    }\n</style>\n<table border=\"1\" class=\"dataframe\">\n  <thead>\n    <tr style=\"text-align: right;\">\n      <th></th>\n      <th>location</th>\n      <th>continent</th>\n      <th>population</th>\n      <th>life_expectancy</th>\n      <th>hospital_beds_per_thousand</th>\n      <th>gdp_per_capita</th>\n      <th>gdp</th>\n      <th>total_cases</th>\n      <th>total_deaths</th>\n      <th>total_tests</th>\n      <th>tests_per_million</th>\n    </tr>\n  </thead>\n  <tbody>\n    <tr>\n      <th>0</th>\n      <td>Afghanistan</td>\n      <td>Asia</td>\n      <td>38928341.0</td>\n      <td>64.83</td>\n      <td>0.50</td>\n      <td>1803.987</td>\n      <td>7.022622e+10</td>\n      <td>38243.0</td>\n      <td>1409.0</td>\n      <td>NaN</td>\n      <td>NaN</td>\n    </tr>\n    <tr>\n      <th>1</th>\n      <td>Albania</td>\n      <td>Europe</td>\n      <td>2877800.0</td>\n      <td>78.57</td>\n      <td>2.89</td>\n      <td>11803.431</td>\n      <td>3.396791e+10</td>\n      <td>9728.0</td>\n      <td>296.0</td>\n      <td>NaN</td>\n      <td>NaN</td>\n    </tr>\n    <tr>\n      <th>2</th>\n      <td>Algeria</td>\n      <td>Africa</td>\n      <td>43851043.0</td>\n      <td>76.88</td>\n      <td>1.90</td>\n      <td>13913.839</td>\n      <td>6.101364e+11</td>\n      <td>45158.0</td>\n      <td>1525.0</td>\n      <td>NaN</td>\n      <td>NaN</td>\n    </tr>\n    <tr>\n      <th>3</th>\n      <td>Andorra</td>\n      <td>Europe</td>\n      <td>77265.0</td>\n      <td>83.73</td>\n      <td>NaN</td>\n      <td>NaN</td>\n      <td>NaN</td>\n      <td>1199.0</td>\n      <td>53.0</td>\n      <td>NaN</td>\n      <td>NaN</td>\n    </tr>\n    <tr>\n      <th>4</th>\n      <td>Angola</td>\n      <td>Africa</td>\n      <td>32866268.0</td>\n      <td>61.15</td>\n      <td>NaN</td>\n      <td>5819.495</td>\n      <td>1.912651e+11</td>\n      <td>2729.0</td>\n      <td>109.0</td>\n      <td>NaN</td>\n      <td>NaN</td>\n    </tr>\n    <tr>\n      <th>...</th>\n      <td>...</td>\n      <td>...</td>\n      <td>...</td>\n      <td>...</td>\n      <td>...</td>\n      <td>...</td>\n      <td>...</td>\n      <td>...</td>\n      <td>...</td>\n      <td>...</td>\n      <td>...</td>\n    </tr>\n    <tr>\n      <th>205</th>\n      <td>Vietnam</td>\n      <td>Asia</td>\n      <td>97338583.0</td>\n      <td>75.40</td>\n      <td>2.60</td>\n      <td>6171.884</td>\n      <td>6.007624e+11</td>\n      <td>1046.0</td>\n      <td>35.0</td>\n      <td>261004.0</td>\n      <td>2681.403324</td>\n    </tr>\n    <tr>\n      <th>206</th>\n      <td>Western Sahara</td>\n      <td>Africa</td>\n      <td>597330.0</td>\n      <td>70.26</td>\n      <td>NaN</td>\n      <td>NaN</td>\n      <td>NaN</td>\n      <td>766.0</td>\n      <td>1.0</td>\n      <td>NaN</td>\n      <td>NaN</td>\n    </tr>\n    <tr>\n      <th>207</th>\n      <td>Yemen</td>\n      <td>Asia</td>\n      <td>29825968.0</td>\n      <td>66.12</td>\n      <td>0.70</td>\n      <td>1479.147</td>\n      <td>4.411699e+10</td>\n      <td>1976.0</td>\n      <td>571.0</td>\n      <td>NaN</td>\n      <td>NaN</td>\n    </tr>\n    <tr>\n      <th>208</th>\n      <td>Zambia</td>\n      <td>Africa</td>\n      <td>18383956.0</td>\n      <td>63.89</td>\n      <td>2.00</td>\n      <td>3689.251</td>\n      <td>6.782303e+10</td>\n      <td>12415.0</td>\n      <td>292.0</td>\n      <td>NaN</td>\n      <td>NaN</td>\n    </tr>\n    <tr>\n      <th>209</th>\n      <td>Zimbabwe</td>\n      <td>Africa</td>\n      <td>14862927.0</td>\n      <td>61.49</td>\n      <td>1.70</td>\n      <td>1899.775</td>\n      <td>2.823622e+10</td>\n      <td>6638.0</td>\n      <td>206.0</td>\n      <td>97272.0</td>\n      <td>6544.605918</td>\n    </tr>\n  </tbody>\n</table>\n<p>210 rows × 11 columns</p>\n</div>"
     },
     "metadata": {},
     "execution_count": 56
    }
   ],
   "source": [
    "combined_df['tests_per_million'] = combined_df['total_tests'] * 1e6 / combined_df['population']\n",
    "combined_df"
   ]
  },
  {
   "cell_type": "code",
   "execution_count": 57,
   "metadata": {},
   "outputs": [
    {
     "output_type": "execute_result",
     "data": {
      "text/plain": "           location continent  population  life_expectancy  \\\n0       Afghanistan      Asia  38928341.0            64.83   \n1           Albania    Europe   2877800.0            78.57   \n2           Algeria    Africa  43851043.0            76.88   \n3           Andorra    Europe     77265.0            83.73   \n4            Angola    Africa  32866268.0            61.15   \n..              ...       ...         ...              ...   \n205         Vietnam      Asia  97338583.0            75.40   \n206  Western Sahara    Africa    597330.0            70.26   \n207           Yemen      Asia  29825968.0            66.12   \n208          Zambia    Africa  18383956.0            63.89   \n209        Zimbabwe    Africa  14862927.0            61.49   \n\n     hospital_beds_per_thousand  gdp_per_capita           gdp  total_cases  \\\n0                          0.50        1803.987  7.022622e+10      38243.0   \n1                          2.89       11803.431  3.396791e+10       9728.0   \n2                          1.90       13913.839  6.101364e+11      45158.0   \n3                           NaN             NaN           NaN       1199.0   \n4                           NaN        5819.495  1.912651e+11       2729.0   \n..                          ...             ...           ...          ...   \n205                        2.60        6171.884  6.007624e+11       1046.0   \n206                         NaN             NaN           NaN        766.0   \n207                        0.70        1479.147  4.411699e+10       1976.0   \n208                        2.00        3689.251  6.782303e+10      12415.0   \n209                        1.70        1899.775  2.823622e+10       6638.0   \n\n     total_deaths  total_tests  tests_per_million  cases_per_million  \n0          1409.0          NaN                NaN         982.394806  \n1           296.0          NaN                NaN        3380.359997  \n2          1525.0          NaN                NaN        1029.804468  \n3            53.0          NaN                NaN       15518.022390  \n4           109.0          NaN                NaN          83.033462  \n..            ...          ...                ...                ...  \n205          35.0     261004.0        2681.403324          10.745996  \n206           1.0          NaN                NaN        1282.373228  \n207         571.0          NaN                NaN          66.250993  \n208         292.0          NaN                NaN         675.317108  \n209         206.0      97272.0        6544.605918         446.614587  \n\n[210 rows x 12 columns]",
      "text/html": "<div>\n<style scoped>\n    .dataframe tbody tr th:only-of-type {\n        vertical-align: middle;\n    }\n\n    .dataframe tbody tr th {\n        vertical-align: top;\n    }\n\n    .dataframe thead th {\n        text-align: right;\n    }\n</style>\n<table border=\"1\" class=\"dataframe\">\n  <thead>\n    <tr style=\"text-align: right;\">\n      <th></th>\n      <th>location</th>\n      <th>continent</th>\n      <th>population</th>\n      <th>life_expectancy</th>\n      <th>hospital_beds_per_thousand</th>\n      <th>gdp_per_capita</th>\n      <th>gdp</th>\n      <th>total_cases</th>\n      <th>total_deaths</th>\n      <th>total_tests</th>\n      <th>tests_per_million</th>\n      <th>cases_per_million</th>\n    </tr>\n  </thead>\n  <tbody>\n    <tr>\n      <th>0</th>\n      <td>Afghanistan</td>\n      <td>Asia</td>\n      <td>38928341.0</td>\n      <td>64.83</td>\n      <td>0.50</td>\n      <td>1803.987</td>\n      <td>7.022622e+10</td>\n      <td>38243.0</td>\n      <td>1409.0</td>\n      <td>NaN</td>\n      <td>NaN</td>\n      <td>982.394806</td>\n    </tr>\n    <tr>\n      <th>1</th>\n      <td>Albania</td>\n      <td>Europe</td>\n      <td>2877800.0</td>\n      <td>78.57</td>\n      <td>2.89</td>\n      <td>11803.431</td>\n      <td>3.396791e+10</td>\n      <td>9728.0</td>\n      <td>296.0</td>\n      <td>NaN</td>\n      <td>NaN</td>\n      <td>3380.359997</td>\n    </tr>\n    <tr>\n      <th>2</th>\n      <td>Algeria</td>\n      <td>Africa</td>\n      <td>43851043.0</td>\n      <td>76.88</td>\n      <td>1.90</td>\n      <td>13913.839</td>\n      <td>6.101364e+11</td>\n      <td>45158.0</td>\n      <td>1525.0</td>\n      <td>NaN</td>\n      <td>NaN</td>\n      <td>1029.804468</td>\n    </tr>\n    <tr>\n      <th>3</th>\n      <td>Andorra</td>\n      <td>Europe</td>\n      <td>77265.0</td>\n      <td>83.73</td>\n      <td>NaN</td>\n      <td>NaN</td>\n      <td>NaN</td>\n      <td>1199.0</td>\n      <td>53.0</td>\n      <td>NaN</td>\n      <td>NaN</td>\n      <td>15518.022390</td>\n    </tr>\n    <tr>\n      <th>4</th>\n      <td>Angola</td>\n      <td>Africa</td>\n      <td>32866268.0</td>\n      <td>61.15</td>\n      <td>NaN</td>\n      <td>5819.495</td>\n      <td>1.912651e+11</td>\n      <td>2729.0</td>\n      <td>109.0</td>\n      <td>NaN</td>\n      <td>NaN</td>\n      <td>83.033462</td>\n    </tr>\n    <tr>\n      <th>...</th>\n      <td>...</td>\n      <td>...</td>\n      <td>...</td>\n      <td>...</td>\n      <td>...</td>\n      <td>...</td>\n      <td>...</td>\n      <td>...</td>\n      <td>...</td>\n      <td>...</td>\n      <td>...</td>\n      <td>...</td>\n    </tr>\n    <tr>\n      <th>205</th>\n      <td>Vietnam</td>\n      <td>Asia</td>\n      <td>97338583.0</td>\n      <td>75.40</td>\n      <td>2.60</td>\n      <td>6171.884</td>\n      <td>6.007624e+11</td>\n      <td>1046.0</td>\n      <td>35.0</td>\n      <td>261004.0</td>\n      <td>2681.403324</td>\n      <td>10.745996</td>\n    </tr>\n    <tr>\n      <th>206</th>\n      <td>Western Sahara</td>\n      <td>Africa</td>\n      <td>597330.0</td>\n      <td>70.26</td>\n      <td>NaN</td>\n      <td>NaN</td>\n      <td>NaN</td>\n      <td>766.0</td>\n      <td>1.0</td>\n      <td>NaN</td>\n      <td>NaN</td>\n      <td>1282.373228</td>\n    </tr>\n    <tr>\n      <th>207</th>\n      <td>Yemen</td>\n      <td>Asia</td>\n      <td>29825968.0</td>\n      <td>66.12</td>\n      <td>0.70</td>\n      <td>1479.147</td>\n      <td>4.411699e+10</td>\n      <td>1976.0</td>\n      <td>571.0</td>\n      <td>NaN</td>\n      <td>NaN</td>\n      <td>66.250993</td>\n    </tr>\n    <tr>\n      <th>208</th>\n      <td>Zambia</td>\n      <td>Africa</td>\n      <td>18383956.0</td>\n      <td>63.89</td>\n      <td>2.00</td>\n      <td>3689.251</td>\n      <td>6.782303e+10</td>\n      <td>12415.0</td>\n      <td>292.0</td>\n      <td>NaN</td>\n      <td>NaN</td>\n      <td>675.317108</td>\n    </tr>\n    <tr>\n      <th>209</th>\n      <td>Zimbabwe</td>\n      <td>Africa</td>\n      <td>14862927.0</td>\n      <td>61.49</td>\n      <td>1.70</td>\n      <td>1899.775</td>\n      <td>2.823622e+10</td>\n      <td>6638.0</td>\n      <td>206.0</td>\n      <td>97272.0</td>\n      <td>6544.605918</td>\n      <td>446.614587</td>\n    </tr>\n  </tbody>\n</table>\n<p>210 rows × 12 columns</p>\n</div>"
     },
     "metadata": {},
     "execution_count": 57
    }
   ],
   "source": [
    "combined_df['cases_per_million'] = (combined_df.total_cases *1e6)/combined_df.population\n",
    "combined_df"
   ]
  },
  {
   "cell_type": "code",
   "execution_count": 59,
   "metadata": {},
   "outputs": [
    {
     "output_type": "execute_result",
     "data": {
      "text/plain": "           location continent  population  life_expectancy  \\\n0       Afghanistan      Asia  38928341.0            64.83   \n1           Albania    Europe   2877800.0            78.57   \n2           Algeria    Africa  43851043.0            76.88   \n3           Andorra    Europe     77265.0            83.73   \n4            Angola    Africa  32866268.0            61.15   \n..              ...       ...         ...              ...   \n205         Vietnam      Asia  97338583.0            75.40   \n206  Western Sahara    Africa    597330.0            70.26   \n207           Yemen      Asia  29825968.0            66.12   \n208          Zambia    Africa  18383956.0            63.89   \n209        Zimbabwe    Africa  14862927.0            61.49   \n\n     hospital_beds_per_thousand  gdp_per_capita           gdp  total_cases  \\\n0                          0.50        1803.987  7.022622e+10      38243.0   \n1                          2.89       11803.431  3.396791e+10       9728.0   \n2                          1.90       13913.839  6.101364e+11      45158.0   \n3                           NaN             NaN           NaN       1199.0   \n4                           NaN        5819.495  1.912651e+11       2729.0   \n..                          ...             ...           ...          ...   \n205                        2.60        6171.884  6.007624e+11       1046.0   \n206                         NaN             NaN           NaN        766.0   \n207                        0.70        1479.147  4.411699e+10       1976.0   \n208                        2.00        3689.251  6.782303e+10      12415.0   \n209                        1.70        1899.775  2.823622e+10       6638.0   \n\n     total_deaths  total_tests  tests_per_million  cases_per_million  \\\n0          1409.0          NaN                NaN         982.394806   \n1           296.0          NaN                NaN        3380.359997   \n2          1525.0          NaN                NaN        1029.804468   \n3            53.0          NaN                NaN       15518.022390   \n4           109.0          NaN                NaN          83.033462   \n..            ...          ...                ...                ...   \n205          35.0     261004.0        2681.403324          10.745996   \n206           1.0          NaN                NaN        1282.373228   \n207         571.0          NaN                NaN          66.250993   \n208         292.0          NaN                NaN         675.317108   \n209         206.0      97272.0        6544.605918         446.614587   \n\n     deaths_per_million  \n0             36.194710  \n1            102.856349  \n2             34.776824  \n3            685.950948  \n4              3.316470  \n..                  ...  \n205            0.359570  \n206            1.674116  \n207           19.144391  \n208           15.883415  \n209           13.859989  \n\n[210 rows x 13 columns]",
      "text/html": "<div>\n<style scoped>\n    .dataframe tbody tr th:only-of-type {\n        vertical-align: middle;\n    }\n\n    .dataframe tbody tr th {\n        vertical-align: top;\n    }\n\n    .dataframe thead th {\n        text-align: right;\n    }\n</style>\n<table border=\"1\" class=\"dataframe\">\n  <thead>\n    <tr style=\"text-align: right;\">\n      <th></th>\n      <th>location</th>\n      <th>continent</th>\n      <th>population</th>\n      <th>life_expectancy</th>\n      <th>hospital_beds_per_thousand</th>\n      <th>gdp_per_capita</th>\n      <th>gdp</th>\n      <th>total_cases</th>\n      <th>total_deaths</th>\n      <th>total_tests</th>\n      <th>tests_per_million</th>\n      <th>cases_per_million</th>\n      <th>deaths_per_million</th>\n    </tr>\n  </thead>\n  <tbody>\n    <tr>\n      <th>0</th>\n      <td>Afghanistan</td>\n      <td>Asia</td>\n      <td>38928341.0</td>\n      <td>64.83</td>\n      <td>0.50</td>\n      <td>1803.987</td>\n      <td>7.022622e+10</td>\n      <td>38243.0</td>\n      <td>1409.0</td>\n      <td>NaN</td>\n      <td>NaN</td>\n      <td>982.394806</td>\n      <td>36.194710</td>\n    </tr>\n    <tr>\n      <th>1</th>\n      <td>Albania</td>\n      <td>Europe</td>\n      <td>2877800.0</td>\n      <td>78.57</td>\n      <td>2.89</td>\n      <td>11803.431</td>\n      <td>3.396791e+10</td>\n      <td>9728.0</td>\n      <td>296.0</td>\n      <td>NaN</td>\n      <td>NaN</td>\n      <td>3380.359997</td>\n      <td>102.856349</td>\n    </tr>\n    <tr>\n      <th>2</th>\n      <td>Algeria</td>\n      <td>Africa</td>\n      <td>43851043.0</td>\n      <td>76.88</td>\n      <td>1.90</td>\n      <td>13913.839</td>\n      <td>6.101364e+11</td>\n      <td>45158.0</td>\n      <td>1525.0</td>\n      <td>NaN</td>\n      <td>NaN</td>\n      <td>1029.804468</td>\n      <td>34.776824</td>\n    </tr>\n    <tr>\n      <th>3</th>\n      <td>Andorra</td>\n      <td>Europe</td>\n      <td>77265.0</td>\n      <td>83.73</td>\n      <td>NaN</td>\n      <td>NaN</td>\n      <td>NaN</td>\n      <td>1199.0</td>\n      <td>53.0</td>\n      <td>NaN</td>\n      <td>NaN</td>\n      <td>15518.022390</td>\n      <td>685.950948</td>\n    </tr>\n    <tr>\n      <th>4</th>\n      <td>Angola</td>\n      <td>Africa</td>\n      <td>32866268.0</td>\n      <td>61.15</td>\n      <td>NaN</td>\n      <td>5819.495</td>\n      <td>1.912651e+11</td>\n      <td>2729.0</td>\n      <td>109.0</td>\n      <td>NaN</td>\n      <td>NaN</td>\n      <td>83.033462</td>\n      <td>3.316470</td>\n    </tr>\n    <tr>\n      <th>...</th>\n      <td>...</td>\n      <td>...</td>\n      <td>...</td>\n      <td>...</td>\n      <td>...</td>\n      <td>...</td>\n      <td>...</td>\n      <td>...</td>\n      <td>...</td>\n      <td>...</td>\n      <td>...</td>\n      <td>...</td>\n      <td>...</td>\n    </tr>\n    <tr>\n      <th>205</th>\n      <td>Vietnam</td>\n      <td>Asia</td>\n      <td>97338583.0</td>\n      <td>75.40</td>\n      <td>2.60</td>\n      <td>6171.884</td>\n      <td>6.007624e+11</td>\n      <td>1046.0</td>\n      <td>35.0</td>\n      <td>261004.0</td>\n      <td>2681.403324</td>\n      <td>10.745996</td>\n      <td>0.359570</td>\n    </tr>\n    <tr>\n      <th>206</th>\n      <td>Western Sahara</td>\n      <td>Africa</td>\n      <td>597330.0</td>\n      <td>70.26</td>\n      <td>NaN</td>\n      <td>NaN</td>\n      <td>NaN</td>\n      <td>766.0</td>\n      <td>1.0</td>\n      <td>NaN</td>\n      <td>NaN</td>\n      <td>1282.373228</td>\n      <td>1.674116</td>\n    </tr>\n    <tr>\n      <th>207</th>\n      <td>Yemen</td>\n      <td>Asia</td>\n      <td>29825968.0</td>\n      <td>66.12</td>\n      <td>0.70</td>\n      <td>1479.147</td>\n      <td>4.411699e+10</td>\n      <td>1976.0</td>\n      <td>571.0</td>\n      <td>NaN</td>\n      <td>NaN</td>\n      <td>66.250993</td>\n      <td>19.144391</td>\n    </tr>\n    <tr>\n      <th>208</th>\n      <td>Zambia</td>\n      <td>Africa</td>\n      <td>18383956.0</td>\n      <td>63.89</td>\n      <td>2.00</td>\n      <td>3689.251</td>\n      <td>6.782303e+10</td>\n      <td>12415.0</td>\n      <td>292.0</td>\n      <td>NaN</td>\n      <td>NaN</td>\n      <td>675.317108</td>\n      <td>15.883415</td>\n    </tr>\n    <tr>\n      <th>209</th>\n      <td>Zimbabwe</td>\n      <td>Africa</td>\n      <td>14862927.0</td>\n      <td>61.49</td>\n      <td>1.70</td>\n      <td>1899.775</td>\n      <td>2.823622e+10</td>\n      <td>6638.0</td>\n      <td>206.0</td>\n      <td>97272.0</td>\n      <td>6544.605918</td>\n      <td>446.614587</td>\n      <td>13.859989</td>\n    </tr>\n  </tbody>\n</table>\n<p>210 rows × 13 columns</p>\n</div>"
     },
     "metadata": {},
     "execution_count": 59
    }
   ],
   "source": [
    "combined_df['deaths_per_million'] = (combined_df.total_deaths*1e6)/combined_df.population\n",
    "combined_df"
   ]
  },
  {
   "cell_type": "code",
   "execution_count": 60,
   "metadata": {
    "tags": []
   },
   "outputs": [
    {
     "output_type": "display_data",
     "data": {
      "text/plain": "<IPython.core.display.Javascript object>",
      "application/javascript": "window.require && require([\"base/js/namespace\"],function(Jupyter){Jupyter.notebook.save_checkpoint()})"
     },
     "metadata": {}
    },
    {
     "output_type": "stream",
     "name": "stdout",
     "text": "[jovian] Attempting to save notebook..\u001b[0m\n[jovian] Updating notebook \"charitarthchugh/pandas-practice-assignment\" on https://jovian.ml/\u001b[0m\n[jovian] Uploading notebook..\u001b[0m\n[jovian] Capturing environment..\u001b[0m\n[jovian] Git repository identified. Performing git commit...\u001b[0m\n[jovian] Attaching records (metrics, hyperparameters, dataset etc.)\u001b[0m\n[jovian] Committed successfully! https://jovian.ml/charitarthchugh/pandas-practice-assignment\u001b[0m\nEnumerating objects: 7, done.\nCounting objects: 100% (7/7), done.\nDelta compression using up to 24 threads\nCompressing objects: 100% (4/4), done.\nWriting objects: 100% (4/4), 1.57 KiB | 802.00 KiB/s, done.\nTotal 4 (delta 3), reused 0 (delta 0), pack-reused 0\nremote: Resolving deltas: 100% (3/3), completed with 3 local objects.\u001b[K\nTo https://github.com/charitarthchugh/ZeroToPandas.git\n   20c0fde..4195a7e  master -> master\nDone!\n"
    }
   ],
   "source": [
    "commit()"
   ]
  },
  {
   "cell_type": "markdown",
   "metadata": {},
   "source": [
    "**Q: Create a dataframe with 10 countires that have highest number of tests per million people.**"
   ]
  },
  {
   "cell_type": "code",
   "execution_count": 63,
   "metadata": {},
   "outputs": [
    {
     "output_type": "execute_result",
     "data": {
      "text/plain": "                 location      continent   population  life_expectancy  \\\n197  United Arab Emirates           Asia    9890400.0            77.97   \n14                Bahrain           Asia    1701583.0            77.29   \n115            Luxembourg         Europe     625976.0            82.25   \n122                 Malta         Europe     441539.0            82.53   \n53                Denmark         Europe    5792203.0            80.90   \n96                 Israel           Asia    8655541.0            82.97   \n89                Iceland         Europe     341250.0            82.99   \n157                Russia         Europe  145934460.0            72.58   \n199         United States  North America  331002647.0            78.86   \n10              Australia        Oceania   25499881.0            83.44   \n\n     hospital_beds_per_thousand  gdp_per_capita           gdp  total_cases  \\\n197                       1.200       67293.483  6.655595e+11      71540.0   \n14                        2.000       43290.705  7.366273e+10      52440.0   \n115                       4.510       94277.965  5.901574e+10       7928.0   \n122                       4.485       36513.323  1.612206e+10       1931.0   \n53                        2.500       46682.515  2.703946e+11      17195.0   \n96                        2.990       33132.320  2.867782e+11     122539.0   \n89                        2.910       46482.958  1.586231e+10       2121.0   \n157                       8.050       24765.954  3.614206e+12    1005000.0   \n199                       2.770       54225.446  1.794877e+13    6114406.0   \n10                        3.840       44648.710  1.138537e+12      25923.0   \n\n     total_deaths  total_tests  tests_per_million  cases_per_million  \\\n197         387.0    7177430.0      725696.635121        7233.276713   \n14          190.0    1118837.0      657527.137965       30818.361490   \n115         124.0     385820.0      616349.508607       12665.022301   \n122          13.0     188539.0      427004.183096        4373.339614   \n53          626.0    2447911.0      422621.755488        2968.645954   \n96          969.0    2353984.0      271962.665303       14157.289533   \n89           10.0      88829.0      260304.761905        6215.384615   \n157       17414.0   37176827.0      254750.159763        6886.653091   \n199      185744.0   83898416.0      253467.507769       18472.377957   \n10          663.0    6255797.0      245326.517406        1016.592979   \n\n     deaths_per_million  \n197           39.128852  \n14           111.660730  \n115          198.090662  \n122           29.442473  \n53           108.076323  \n96           111.951408  \n89            29.304029  \n157          119.327539  \n199          561.155633  \n10            26.000121  ",
      "text/html": "<div>\n<style scoped>\n    .dataframe tbody tr th:only-of-type {\n        vertical-align: middle;\n    }\n\n    .dataframe tbody tr th {\n        vertical-align: top;\n    }\n\n    .dataframe thead th {\n        text-align: right;\n    }\n</style>\n<table border=\"1\" class=\"dataframe\">\n  <thead>\n    <tr style=\"text-align: right;\">\n      <th></th>\n      <th>location</th>\n      <th>continent</th>\n      <th>population</th>\n      <th>life_expectancy</th>\n      <th>hospital_beds_per_thousand</th>\n      <th>gdp_per_capita</th>\n      <th>gdp</th>\n      <th>total_cases</th>\n      <th>total_deaths</th>\n      <th>total_tests</th>\n      <th>tests_per_million</th>\n      <th>cases_per_million</th>\n      <th>deaths_per_million</th>\n    </tr>\n  </thead>\n  <tbody>\n    <tr>\n      <th>197</th>\n      <td>United Arab Emirates</td>\n      <td>Asia</td>\n      <td>9890400.0</td>\n      <td>77.97</td>\n      <td>1.200</td>\n      <td>67293.483</td>\n      <td>6.655595e+11</td>\n      <td>71540.0</td>\n      <td>387.0</td>\n      <td>7177430.0</td>\n      <td>725696.635121</td>\n      <td>7233.276713</td>\n      <td>39.128852</td>\n    </tr>\n    <tr>\n      <th>14</th>\n      <td>Bahrain</td>\n      <td>Asia</td>\n      <td>1701583.0</td>\n      <td>77.29</td>\n      <td>2.000</td>\n      <td>43290.705</td>\n      <td>7.366273e+10</td>\n      <td>52440.0</td>\n      <td>190.0</td>\n      <td>1118837.0</td>\n      <td>657527.137965</td>\n      <td>30818.361490</td>\n      <td>111.660730</td>\n    </tr>\n    <tr>\n      <th>115</th>\n      <td>Luxembourg</td>\n      <td>Europe</td>\n      <td>625976.0</td>\n      <td>82.25</td>\n      <td>4.510</td>\n      <td>94277.965</td>\n      <td>5.901574e+10</td>\n      <td>7928.0</td>\n      <td>124.0</td>\n      <td>385820.0</td>\n      <td>616349.508607</td>\n      <td>12665.022301</td>\n      <td>198.090662</td>\n    </tr>\n    <tr>\n      <th>122</th>\n      <td>Malta</td>\n      <td>Europe</td>\n      <td>441539.0</td>\n      <td>82.53</td>\n      <td>4.485</td>\n      <td>36513.323</td>\n      <td>1.612206e+10</td>\n      <td>1931.0</td>\n      <td>13.0</td>\n      <td>188539.0</td>\n      <td>427004.183096</td>\n      <td>4373.339614</td>\n      <td>29.442473</td>\n    </tr>\n    <tr>\n      <th>53</th>\n      <td>Denmark</td>\n      <td>Europe</td>\n      <td>5792203.0</td>\n      <td>80.90</td>\n      <td>2.500</td>\n      <td>46682.515</td>\n      <td>2.703946e+11</td>\n      <td>17195.0</td>\n      <td>626.0</td>\n      <td>2447911.0</td>\n      <td>422621.755488</td>\n      <td>2968.645954</td>\n      <td>108.076323</td>\n    </tr>\n    <tr>\n      <th>96</th>\n      <td>Israel</td>\n      <td>Asia</td>\n      <td>8655541.0</td>\n      <td>82.97</td>\n      <td>2.990</td>\n      <td>33132.320</td>\n      <td>2.867782e+11</td>\n      <td>122539.0</td>\n      <td>969.0</td>\n      <td>2353984.0</td>\n      <td>271962.665303</td>\n      <td>14157.289533</td>\n      <td>111.951408</td>\n    </tr>\n    <tr>\n      <th>89</th>\n      <td>Iceland</td>\n      <td>Europe</td>\n      <td>341250.0</td>\n      <td>82.99</td>\n      <td>2.910</td>\n      <td>46482.958</td>\n      <td>1.586231e+10</td>\n      <td>2121.0</td>\n      <td>10.0</td>\n      <td>88829.0</td>\n      <td>260304.761905</td>\n      <td>6215.384615</td>\n      <td>29.304029</td>\n    </tr>\n    <tr>\n      <th>157</th>\n      <td>Russia</td>\n      <td>Europe</td>\n      <td>145934460.0</td>\n      <td>72.58</td>\n      <td>8.050</td>\n      <td>24765.954</td>\n      <td>3.614206e+12</td>\n      <td>1005000.0</td>\n      <td>17414.0</td>\n      <td>37176827.0</td>\n      <td>254750.159763</td>\n      <td>6886.653091</td>\n      <td>119.327539</td>\n    </tr>\n    <tr>\n      <th>199</th>\n      <td>United States</td>\n      <td>North America</td>\n      <td>331002647.0</td>\n      <td>78.86</td>\n      <td>2.770</td>\n      <td>54225.446</td>\n      <td>1.794877e+13</td>\n      <td>6114406.0</td>\n      <td>185744.0</td>\n      <td>83898416.0</td>\n      <td>253467.507769</td>\n      <td>18472.377957</td>\n      <td>561.155633</td>\n    </tr>\n    <tr>\n      <th>10</th>\n      <td>Australia</td>\n      <td>Oceania</td>\n      <td>25499881.0</td>\n      <td>83.44</td>\n      <td>3.840</td>\n      <td>44648.710</td>\n      <td>1.138537e+12</td>\n      <td>25923.0</td>\n      <td>663.0</td>\n      <td>6255797.0</td>\n      <td>245326.517406</td>\n      <td>1016.592979</td>\n      <td>26.000121</td>\n    </tr>\n  </tbody>\n</table>\n</div>"
     },
     "metadata": {},
     "execution_count": 63
    }
   ],
   "source": [
    "highest_tests_df = combined_df.sort_values(\"tests_per_million\", ascending=False ).head(10)\n",
    "highest_tests_df"
   ]
  },
  {
   "cell_type": "code",
   "execution_count": 64,
   "metadata": {
    "tags": []
   },
   "outputs": [
    {
     "output_type": "display_data",
     "data": {
      "text/plain": "<IPython.core.display.Javascript object>",
      "application/javascript": "window.require && require([\"base/js/namespace\"],function(Jupyter){Jupyter.notebook.save_checkpoint()})"
     },
     "metadata": {}
    },
    {
     "output_type": "stream",
     "name": "stdout",
     "text": "[jovian] Attempting to save notebook..\u001b[0m\n[jovian] Updating notebook \"charitarthchugh/pandas-practice-assignment\" on https://jovian.ml/\u001b[0m\n[jovian] Uploading notebook..\u001b[0m\n[jovian] Capturing environment..\u001b[0m\n[jovian] Git repository identified. Performing git commit...\u001b[0m\n[jovian] Attaching records (metrics, hyperparameters, dataset etc.)\u001b[0m\n[jovian] Committed successfully! https://jovian.ml/charitarthchugh/pandas-practice-assignment\u001b[0m\nEnumerating objects: 7, done.\nCounting objects: 100% (7/7), done.\nDelta compression using up to 24 threads\nCompressing objects: 100% (4/4), done.\nWriting objects: 100% (4/4), 2.28 KiB | 776.00 KiB/s, done.\nTotal 4 (delta 3), reused 0 (delta 0), pack-reused 0\nremote: Resolving deltas: 100% (3/3), completed with 3 local objects.\u001b[K\nTo https://github.com/charitarthchugh/ZeroToPandas.git\n   4195a7e..098bea9  master -> master\nDone!\n"
    }
   ],
   "source": [
    "commit()"
   ]
  },
  {
   "cell_type": "markdown",
   "metadata": {},
   "source": [
    "**Q: Create a dataframe with 10 countires that have highest number of positive cases per million people.**"
   ]
  },
  {
   "cell_type": "code",
   "execution_count": 65,
   "metadata": {},
   "outputs": [
    {
     "output_type": "execute_result",
     "data": {
      "text/plain": "          location      continent   population  life_expectancy  \\\n155          Qatar           Asia    2881060.0            80.23   \n14         Bahrain           Asia    1701583.0            77.29   \n147         Panama  North America    4314768.0            78.51   \n40           Chile  South America   19116209.0            80.18   \n162     San Marino         Europe      33938.0            84.97   \n9            Aruba  North America     106766.0            76.29   \n105         Kuwait           Asia    4270563.0            75.49   \n150           Peru  South America   32971846.0            76.74   \n27          Brazil  South America  212559409.0            75.88   \n199  United States  North America  331002647.0            78.86   \n\n     hospital_beds_per_thousand  gdp_per_capita           gdp  total_cases  \\\n155                        1.20      116935.600  3.368985e+11     119206.0   \n14                         2.00       43290.705  7.366273e+10      52440.0   \n147                        2.30       22267.037  9.607710e+10      94084.0   \n40                         2.11       22767.037  4.352194e+11     414739.0   \n162                        3.80       56861.470  1.929765e+09        735.0   \n9                           NaN       35973.781  3.840777e+09       2211.0   \n105                        2.00       65530.537  2.798523e+11      86478.0   \n150                        1.60       12236.706  4.034668e+11     663437.0   \n27                         2.20       14103.452  2.997821e+12    3997865.0   \n199                        2.77       54225.446  1.794877e+13    6114406.0   \n\n     total_deaths  total_tests  tests_per_million  cases_per_million  \\\n155         199.0     634745.0      220316.480740       41375.743650   \n14          190.0    1118837.0      657527.137965       30818.361490   \n147        2030.0     336345.0       77952.047480       21805.112117   \n40        11344.0    2458762.0      128621.841287       21695.671982   \n162          42.0          NaN                NaN       21657.139490   \n9            12.0          NaN                NaN       20708.839893   \n105         535.0     621616.0      145558.325682       20249.789079   \n150       29259.0     584232.0       17719.117092       20121.318048   \n27       123780.0    4797948.0       22572.268255       18808.224105   \n199      185744.0   83898416.0      253467.507769       18472.377957   \n\n     deaths_per_million  \n155           69.071800  \n14           111.660730  \n147          470.477208  \n40           593.423100  \n162         1237.550828  \n9            112.395332  \n105          125.276222  \n150          887.393445  \n27           582.331314  \n199          561.155633  ",
      "text/html": "<div>\n<style scoped>\n    .dataframe tbody tr th:only-of-type {\n        vertical-align: middle;\n    }\n\n    .dataframe tbody tr th {\n        vertical-align: top;\n    }\n\n    .dataframe thead th {\n        text-align: right;\n    }\n</style>\n<table border=\"1\" class=\"dataframe\">\n  <thead>\n    <tr style=\"text-align: right;\">\n      <th></th>\n      <th>location</th>\n      <th>continent</th>\n      <th>population</th>\n      <th>life_expectancy</th>\n      <th>hospital_beds_per_thousand</th>\n      <th>gdp_per_capita</th>\n      <th>gdp</th>\n      <th>total_cases</th>\n      <th>total_deaths</th>\n      <th>total_tests</th>\n      <th>tests_per_million</th>\n      <th>cases_per_million</th>\n      <th>deaths_per_million</th>\n    </tr>\n  </thead>\n  <tbody>\n    <tr>\n      <th>155</th>\n      <td>Qatar</td>\n      <td>Asia</td>\n      <td>2881060.0</td>\n      <td>80.23</td>\n      <td>1.20</td>\n      <td>116935.600</td>\n      <td>3.368985e+11</td>\n      <td>119206.0</td>\n      <td>199.0</td>\n      <td>634745.0</td>\n      <td>220316.480740</td>\n      <td>41375.743650</td>\n      <td>69.071800</td>\n    </tr>\n    <tr>\n      <th>14</th>\n      <td>Bahrain</td>\n      <td>Asia</td>\n      <td>1701583.0</td>\n      <td>77.29</td>\n      <td>2.00</td>\n      <td>43290.705</td>\n      <td>7.366273e+10</td>\n      <td>52440.0</td>\n      <td>190.0</td>\n      <td>1118837.0</td>\n      <td>657527.137965</td>\n      <td>30818.361490</td>\n      <td>111.660730</td>\n    </tr>\n    <tr>\n      <th>147</th>\n      <td>Panama</td>\n      <td>North America</td>\n      <td>4314768.0</td>\n      <td>78.51</td>\n      <td>2.30</td>\n      <td>22267.037</td>\n      <td>9.607710e+10</td>\n      <td>94084.0</td>\n      <td>2030.0</td>\n      <td>336345.0</td>\n      <td>77952.047480</td>\n      <td>21805.112117</td>\n      <td>470.477208</td>\n    </tr>\n    <tr>\n      <th>40</th>\n      <td>Chile</td>\n      <td>South America</td>\n      <td>19116209.0</td>\n      <td>80.18</td>\n      <td>2.11</td>\n      <td>22767.037</td>\n      <td>4.352194e+11</td>\n      <td>414739.0</td>\n      <td>11344.0</td>\n      <td>2458762.0</td>\n      <td>128621.841287</td>\n      <td>21695.671982</td>\n      <td>593.423100</td>\n    </tr>\n    <tr>\n      <th>162</th>\n      <td>San Marino</td>\n      <td>Europe</td>\n      <td>33938.0</td>\n      <td>84.97</td>\n      <td>3.80</td>\n      <td>56861.470</td>\n      <td>1.929765e+09</td>\n      <td>735.0</td>\n      <td>42.0</td>\n      <td>NaN</td>\n      <td>NaN</td>\n      <td>21657.139490</td>\n      <td>1237.550828</td>\n    </tr>\n    <tr>\n      <th>9</th>\n      <td>Aruba</td>\n      <td>North America</td>\n      <td>106766.0</td>\n      <td>76.29</td>\n      <td>NaN</td>\n      <td>35973.781</td>\n      <td>3.840777e+09</td>\n      <td>2211.0</td>\n      <td>12.0</td>\n      <td>NaN</td>\n      <td>NaN</td>\n      <td>20708.839893</td>\n      <td>112.395332</td>\n    </tr>\n    <tr>\n      <th>105</th>\n      <td>Kuwait</td>\n      <td>Asia</td>\n      <td>4270563.0</td>\n      <td>75.49</td>\n      <td>2.00</td>\n      <td>65530.537</td>\n      <td>2.798523e+11</td>\n      <td>86478.0</td>\n      <td>535.0</td>\n      <td>621616.0</td>\n      <td>145558.325682</td>\n      <td>20249.789079</td>\n      <td>125.276222</td>\n    </tr>\n    <tr>\n      <th>150</th>\n      <td>Peru</td>\n      <td>South America</td>\n      <td>32971846.0</td>\n      <td>76.74</td>\n      <td>1.60</td>\n      <td>12236.706</td>\n      <td>4.034668e+11</td>\n      <td>663437.0</td>\n      <td>29259.0</td>\n      <td>584232.0</td>\n      <td>17719.117092</td>\n      <td>20121.318048</td>\n      <td>887.393445</td>\n    </tr>\n    <tr>\n      <th>27</th>\n      <td>Brazil</td>\n      <td>South America</td>\n      <td>212559409.0</td>\n      <td>75.88</td>\n      <td>2.20</td>\n      <td>14103.452</td>\n      <td>2.997821e+12</td>\n      <td>3997865.0</td>\n      <td>123780.0</td>\n      <td>4797948.0</td>\n      <td>22572.268255</td>\n      <td>18808.224105</td>\n      <td>582.331314</td>\n    </tr>\n    <tr>\n      <th>199</th>\n      <td>United States</td>\n      <td>North America</td>\n      <td>331002647.0</td>\n      <td>78.86</td>\n      <td>2.77</td>\n      <td>54225.446</td>\n      <td>1.794877e+13</td>\n      <td>6114406.0</td>\n      <td>185744.0</td>\n      <td>83898416.0</td>\n      <td>253467.507769</td>\n      <td>18472.377957</td>\n      <td>561.155633</td>\n    </tr>\n  </tbody>\n</table>\n</div>"
     },
     "metadata": {},
     "execution_count": 65
    }
   ],
   "source": [
    "highest_cases_df = combined_df.sort_values(\"cases_per_million\", ascending=False ).head(10)\n",
    "highest_cases_df"
   ]
  },
  {
   "cell_type": "code",
   "execution_count": null,
   "metadata": {},
   "outputs": [],
   "source": [
    "jovian.commit(project='pandas-practice-assignment', environment=None)"
   ]
  },
  {
   "cell_type": "markdown",
   "metadata": {},
   "source": [
    "**Q: Create a dataframe with 10 countires that have highest number of deaths cases per million people?**"
   ]
  },
  {
   "cell_type": "code",
   "execution_count": 66,
   "metadata": {},
   "outputs": [
    {
     "output_type": "execute_result",
     "data": {
      "text/plain": "           location      continent   population  life_expectancy  \\\n162      San Marino         Europe      33938.0            84.97   \n150            Peru  South America   32971846.0            76.74   \n18          Belgium         Europe   11589616.0            81.63   \n3           Andorra         Europe      77265.0            83.73   \n177           Spain         Europe   46754783.0            83.56   \n198  United Kingdom         Europe   67886004.0            81.32   \n40            Chile  South America   19116209.0            80.18   \n97            Italy         Europe   60461828.0            83.51   \n27           Brazil  South America  212559409.0            75.88   \n182          Sweden         Europe   10099270.0            82.80   \n\n     hospital_beds_per_thousand  gdp_per_capita           gdp  total_cases  \\\n162                        3.80       56861.470  1.929765e+09        735.0   \n150                        1.60       12236.706  4.034668e+11     663437.0   \n18                         5.64       42658.576  4.943965e+11      85817.0   \n3                           NaN             NaN           NaN       1199.0   \n177                        2.97       34272.360  1.602397e+12     479554.0   \n198                        2.54       39753.244  2.698689e+12     338676.0   \n40                         2.11       22767.037  4.352194e+11     414739.0   \n97                         3.18       35220.084  2.129471e+12     271515.0   \n27                         2.20       14103.452  2.997821e+12    3997865.0   \n182                        2.22       46949.283  4.741535e+11      84532.0   \n\n     total_deaths  total_tests  tests_per_million  cases_per_million  \\\n162          42.0          NaN                NaN       21657.139490   \n150       29259.0     584232.0       17719.117092       20121.318048   \n18         9898.0    2281853.0      196887.713967        7404.645676   \n3            53.0          NaN                NaN       15518.022390   \n177       29194.0    6416533.0      137238.001939       10256.790198   \n198       41514.0   13447568.0      198090.434075        4988.892850   \n40        11344.0    2458762.0      128621.841287       21695.671982   \n97        35497.0    5214766.0       86248.897403        4490.684602   \n27       123780.0    4797948.0       22572.268255       18808.224105   \n182        5820.0          NaN                NaN        8370.109919   \n\n     deaths_per_million  \n162         1237.550828  \n150          887.393445  \n18           854.040375  \n3            685.950948  \n177          624.406705  \n198          611.525168  \n40           593.423100  \n97           587.097697  \n27           582.331314  \n182          576.279276  ",
      "text/html": "<div>\n<style scoped>\n    .dataframe tbody tr th:only-of-type {\n        vertical-align: middle;\n    }\n\n    .dataframe tbody tr th {\n        vertical-align: top;\n    }\n\n    .dataframe thead th {\n        text-align: right;\n    }\n</style>\n<table border=\"1\" class=\"dataframe\">\n  <thead>\n    <tr style=\"text-align: right;\">\n      <th></th>\n      <th>location</th>\n      <th>continent</th>\n      <th>population</th>\n      <th>life_expectancy</th>\n      <th>hospital_beds_per_thousand</th>\n      <th>gdp_per_capita</th>\n      <th>gdp</th>\n      <th>total_cases</th>\n      <th>total_deaths</th>\n      <th>total_tests</th>\n      <th>tests_per_million</th>\n      <th>cases_per_million</th>\n      <th>deaths_per_million</th>\n    </tr>\n  </thead>\n  <tbody>\n    <tr>\n      <th>162</th>\n      <td>San Marino</td>\n      <td>Europe</td>\n      <td>33938.0</td>\n      <td>84.97</td>\n      <td>3.80</td>\n      <td>56861.470</td>\n      <td>1.929765e+09</td>\n      <td>735.0</td>\n      <td>42.0</td>\n      <td>NaN</td>\n      <td>NaN</td>\n      <td>21657.139490</td>\n      <td>1237.550828</td>\n    </tr>\n    <tr>\n      <th>150</th>\n      <td>Peru</td>\n      <td>South America</td>\n      <td>32971846.0</td>\n      <td>76.74</td>\n      <td>1.60</td>\n      <td>12236.706</td>\n      <td>4.034668e+11</td>\n      <td>663437.0</td>\n      <td>29259.0</td>\n      <td>584232.0</td>\n      <td>17719.117092</td>\n      <td>20121.318048</td>\n      <td>887.393445</td>\n    </tr>\n    <tr>\n      <th>18</th>\n      <td>Belgium</td>\n      <td>Europe</td>\n      <td>11589616.0</td>\n      <td>81.63</td>\n      <td>5.64</td>\n      <td>42658.576</td>\n      <td>4.943965e+11</td>\n      <td>85817.0</td>\n      <td>9898.0</td>\n      <td>2281853.0</td>\n      <td>196887.713967</td>\n      <td>7404.645676</td>\n      <td>854.040375</td>\n    </tr>\n    <tr>\n      <th>3</th>\n      <td>Andorra</td>\n      <td>Europe</td>\n      <td>77265.0</td>\n      <td>83.73</td>\n      <td>NaN</td>\n      <td>NaN</td>\n      <td>NaN</td>\n      <td>1199.0</td>\n      <td>53.0</td>\n      <td>NaN</td>\n      <td>NaN</td>\n      <td>15518.022390</td>\n      <td>685.950948</td>\n    </tr>\n    <tr>\n      <th>177</th>\n      <td>Spain</td>\n      <td>Europe</td>\n      <td>46754783.0</td>\n      <td>83.56</td>\n      <td>2.97</td>\n      <td>34272.360</td>\n      <td>1.602397e+12</td>\n      <td>479554.0</td>\n      <td>29194.0</td>\n      <td>6416533.0</td>\n      <td>137238.001939</td>\n      <td>10256.790198</td>\n      <td>624.406705</td>\n    </tr>\n    <tr>\n      <th>198</th>\n      <td>United Kingdom</td>\n      <td>Europe</td>\n      <td>67886004.0</td>\n      <td>81.32</td>\n      <td>2.54</td>\n      <td>39753.244</td>\n      <td>2.698689e+12</td>\n      <td>338676.0</td>\n      <td>41514.0</td>\n      <td>13447568.0</td>\n      <td>198090.434075</td>\n      <td>4988.892850</td>\n      <td>611.525168</td>\n    </tr>\n    <tr>\n      <th>40</th>\n      <td>Chile</td>\n      <td>South America</td>\n      <td>19116209.0</td>\n      <td>80.18</td>\n      <td>2.11</td>\n      <td>22767.037</td>\n      <td>4.352194e+11</td>\n      <td>414739.0</td>\n      <td>11344.0</td>\n      <td>2458762.0</td>\n      <td>128621.841287</td>\n      <td>21695.671982</td>\n      <td>593.423100</td>\n    </tr>\n    <tr>\n      <th>97</th>\n      <td>Italy</td>\n      <td>Europe</td>\n      <td>60461828.0</td>\n      <td>83.51</td>\n      <td>3.18</td>\n      <td>35220.084</td>\n      <td>2.129471e+12</td>\n      <td>271515.0</td>\n      <td>35497.0</td>\n      <td>5214766.0</td>\n      <td>86248.897403</td>\n      <td>4490.684602</td>\n      <td>587.097697</td>\n    </tr>\n    <tr>\n      <th>27</th>\n      <td>Brazil</td>\n      <td>South America</td>\n      <td>212559409.0</td>\n      <td>75.88</td>\n      <td>2.20</td>\n      <td>14103.452</td>\n      <td>2.997821e+12</td>\n      <td>3997865.0</td>\n      <td>123780.0</td>\n      <td>4797948.0</td>\n      <td>22572.268255</td>\n      <td>18808.224105</td>\n      <td>582.331314</td>\n    </tr>\n    <tr>\n      <th>182</th>\n      <td>Sweden</td>\n      <td>Europe</td>\n      <td>10099270.0</td>\n      <td>82.80</td>\n      <td>2.22</td>\n      <td>46949.283</td>\n      <td>4.741535e+11</td>\n      <td>84532.0</td>\n      <td>5820.0</td>\n      <td>NaN</td>\n      <td>NaN</td>\n      <td>8370.109919</td>\n      <td>576.279276</td>\n    </tr>\n  </tbody>\n</table>\n</div>"
     },
     "metadata": {},
     "execution_count": 66
    }
   ],
   "source": [
    "highest_deaths_df = combined_df.sort_values(\"deaths_per_million\", ascending=False ).head(10)\n",
    "highest_deaths_df"
   ]
  },
  {
   "cell_type": "code",
   "execution_count": null,
   "metadata": {},
   "outputs": [],
   "source": [
    "commit()"
   ]
  },
  {
   "cell_type": "markdown",
   "metadata": {},
   "source": [
    "**(Optional) Q: Count number of countries that feature in both the lists of \"highest number of tests per million\" and \"highest number of cases per million\".**"
   ]
  },
  {
   "cell_type": "code",
   "execution_count": null,
   "metadata": {},
   "outputs": [],
   "source": []
  },
  {
   "cell_type": "code",
   "execution_count": null,
   "metadata": {},
   "outputs": [],
   "source": []
  },
  {
   "cell_type": "code",
   "execution_count": null,
   "metadata": {},
   "outputs": [],
   "source": []
  },
  {
   "cell_type": "code",
   "execution_count": null,
   "metadata": {},
   "outputs": [],
   "source": [
    "jovian.commit(project='pandas-practice-assignment', environment=None)"
   ]
  },
  {
   "cell_type": "markdown",
   "metadata": {},
   "source": [
    "**(Optional) Q: Count number of countries that feature in both the lists \"20 countries with lowest GDP per capita\" and \"20 countries with the lowest number of hospital beds per thousand population\". Only consider countries with a population higher than 10 million while creating the list.**"
   ]
  },
  {
   "cell_type": "code",
   "execution_count": 2,
   "metadata": {},
   "outputs": [],
   "source": [
    "import jovian"
   ]
  },
  {
   "cell_type": "code",
   "execution_count": null,
   "metadata": {},
   "outputs": [
    {
     "data": {
      "application/javascript": [
       "window.require && require([\"base/js/namespace\"],function(Jupyter){Jupyter.notebook.save_checkpoint()})"
      ],
      "text/plain": [
       "<IPython.core.display.Javascript object>"
      ]
     },
     "metadata": {},
     "output_type": "display_data"
    },
    {
     "name": "stdout",
     "output_type": "stream",
     "text": [
      "[jovian] Attempting to save notebook..\u001b[0m\n"
     ]
    }
   ],
   "source": [
    "jovian.commit(project='pandas-practice-assignment', environment=None)"
   ]
  },
  {
   "cell_type": "markdown",
   "metadata": {},
   "source": [
    "## Submission \n",
    "\n",
    "Congratulations on making it this far! You've reached the end of this assignment, and you just completed your first real-world data analysis problem. It's time to record one final version of your notebook for submission.\n",
    "\n",
    "Make a submission here by filling the submission form: https://jovian.ml/learn/data-analysis-with-python-zero-to-pandas/assignment/assignment-3-pandas-practice\n",
    "\n",
    "Also make sure to help others on the forum: https://jovian.ml/forum/t/assignment-3-pandas-practice/11225/2"
   ]
  }
 ],
 "metadata": {
  "kernelspec": {
   "display_name": "Python 3",
   "language": "python",
   "name": "python3"
  }
 },
 "nbformat": 4,
 "nbformat_minor": 4
}