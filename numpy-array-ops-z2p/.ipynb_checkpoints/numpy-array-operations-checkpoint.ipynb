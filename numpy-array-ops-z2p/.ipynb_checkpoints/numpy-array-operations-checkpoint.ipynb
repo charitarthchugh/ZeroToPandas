{
 "cells": [
  {
   "cell_type": "markdown",
   "metadata": {},
   "source": [
    "### **Assignment 2 - Numpy Array Operations**\n",
    "\n",
    " This assignment is part of the course [\"Data Analysis with Python: Zero to Pandas\"](http://zerotopandas.com). The objective of this assignment is to develop a solid understanding of Numpy array operations. In this assignment you will:\n",
    "\n",
    " 1. Pick 5 interesting Numpy array functions by going through the documentation: https://numpy.org/doc/stable/reference/routines.html\n",
    " 2. Run and modify this Jupyter notebook to illustrate their usage (some explanation and 3 examples for each function). Use your imagination to come up with interesting and unique examples.\n",
    " 3. Upload this notebook to your Jovian profile using `jovian.commit` and make a submission here: https://jovian.ml/learn/data-analysis-with-python-zero-to-pandas/assignment/assignment-2-numpy-array-operations\n",
    " 4. (Optional) Share your notebook online (on Twitter, LinkedIn, Facebook) and on the community forum thread: https://jovian.ml/forum/t/assignment-2-numpy-array-operations-share-your-work/10575 .\n",
    " 5. (Optional) Check out the notebooks [shared by other participants](https://jovian.ml/forum/t/assignment-2-numpy-array-operations-share-your-work/10575) and give feedback & appreciation.\n",
    "\n",
    " The recommended way to run this notebook is to click the \"Run\" button at the top of this page, and select \"Run on Binder\". This will run the notebook on mybinder.org, a free online service for running Jupyter notebooks.\n",
    "\n",
    " Try to give your notebook a catchy title & subtitle e.g. \"All about Numpy array operations\", \"5 Numpy functions you didn't know you needed\", \"A beginner's guide to broadcasting in Numpy\", \"Interesting ways to create Numpy arrays\", \"Trigonometic functions in Numpy\", \"How to use Python for Linear Algebra\" etc.\n",
    "\n",
    "**NOTE**: Remove this block of explanation text before submitting or sharing your notebook online - to make it more presentable."
   ]
  },
  {
   "cell_type": "markdown",
   "metadata": {},
   "source": [
    "# 5 useful Numpy functions!\n",
    "\n",
    "Write a short introduction about Numpy and list the chosen functions. \n",
    "\n",
    "- Triganometric functions!\n",
    "- Sorting!\n",
    "- Ravel!\n",
    "- function 4\n",
    "- function 5\n",
    "\n",
    "The recommended way to run this notebook is to click the \"Run\" button at the top of this page, and select \"Run on Binder\". This will run the notebook on mybinder.org, a free online service for running Jupyter notebooks."
   ]
  },
  {
   "cell_type": "code",
   "execution_count": 1,
   "metadata": {
    "tags": []
   },
   "outputs": [],
   "source": [
    "!pip install jovian plotly --upgrade -q"
   ]
  },
  {
   "cell_type": "code",
   "execution_count": 3,
   "metadata": {},
   "outputs": [
    {
     "data": {
      "application/javascript": [
       "if (window.IPython && IPython.notebook.kernel) IPython.notebook.kernel.execute('jovian.utils.jupyter.get_notebook_name_saved = lambda: \"' + IPython.notebook.notebook_name + '\"')"
      ],
      "text/plain": [
       "<IPython.core.display.Javascript object>"
      ]
     },
     "metadata": {},
     "output_type": "display_data"
    }
   ],
   "source": [
    "import jovian"
   ]
  },
  {
   "cell_type": "code",
   "execution_count": 4,
   "metadata": {},
   "outputs": [],
   "source": [
    "filename=\"numpy-array-operations.ipynb\""
   ]
  },
  {
   "cell_type": "code",
   "execution_count": null,
   "metadata": {
    "tags": []
   },
   "outputs": [
    {
     "data": {
      "application/javascript": [
       "window.require && require([\"base/js/namespace\"],function(Jupyter){Jupyter.notebook.save_checkpoint()})"
      ],
      "text/plain": [
       "<IPython.core.display.Javascript object>"
      ]
     },
     "metadata": {},
     "output_type": "display_data"
    },
    {
     "name": "stdout",
     "output_type": "stream",
     "text": [
      "[jovian] Attempting to save notebook..\u001b[0m\n"
     ]
    }
   ],
   "source": [
    "jovian.commit(project='numpy-array-operations-z2p',filename=filename)"
   ]
  },
  {
   "cell_type": "markdown",
   "metadata": {},
   "source": [
    "Let's begin by importing Numpy and listing out the functions covered in this notebook."
   ]
  },
  {
   "cell_type": "code",
   "execution_count": null,
   "metadata": {},
   "outputs": [],
   "source": [
    "import numpy as np"
   ]
  },
  {
   "cell_type": "code",
   "execution_count": null,
   "metadata": {},
   "outputs": [],
   "source": [
    "# List of functions explained \n",
    "function1 = np.sin()\n",
    "\"\"\"\n",
    "This function is one of many that follow the same rule\n",
    "cos,tan,arcsin,arccos,arctan also follow the same pattern\n",
    "\"\"\"\n",
    "function2 = np.sort() \n",
    "function3 = np.ravel()\n",
    "function4 = np.searchsorted()\n",
    "function5 = np.partition()"
   ]
  },
  {
   "cell_type": "markdown",
   "metadata": {},
   "source": [
    "## Function 1 - Numpy Triganometry!\n",
    "\n",
    "Perform triginometric functions in numpy.\n",
    "\n",
    "\n",
    "**This also applies to cos,tan,arcsin,arccos and arctan numpy functions.*"
   ]
  },
  {
   "cell_type": "code",
   "execution_count": null,
   "metadata": {},
   "outputs": [],
   "source": [
    "# Example 1 - working (change this)\n",
    "arr1 = [[1, 2], \n",
    "        [3, 4.]]\n",
    "\n",
    "arr2 = [[5, 6, 7], \n",
    "        [8, 9, 10]]\n",
    "\n",
    "np.concatenate((arr1, arr2), axis=1)"
   ]
  },
  {
   "cell_type": "markdown",
   "metadata": {},
   "source": [
    "Explanation about example"
   ]
  },
  {
   "cell_type": "code",
   "execution_count": null,
   "metadata": {},
   "outputs": [],
   "source": [
    "# Example 2 - working\n",
    "???"
   ]
  },
  {
   "cell_type": "markdown",
   "metadata": {},
   "source": [
    "Explanation about example"
   ]
  },
  {
   "cell_type": "code",
   "execution_count": null,
   "metadata": {},
   "outputs": [],
   "source": [
    "# Example 3 - breaking (to illustrate when it breaks)\n",
    "arr1 = [[1, 2], \n",
    "        [3, 4.]]\n",
    "\n",
    "arr2 = [[5, 6, 7], \n",
    "        [8, 9, 10]]\n",
    "\n",
    "np.concatenate((arr1, arr2), axis=0)"
   ]
  },
  {
   "cell_type": "markdown",
   "metadata": {},
   "source": [
    "Explanation about example (why it breaks and how to fix it)"
   ]
  },
  {
   "cell_type": "markdown",
   "metadata": {},
   "source": [
    "Some closing comments about when to use this function."
   ]
  },
  {
   "cell_type": "code",
   "execution_count": null,
   "metadata": {
    "tags": []
   },
   "outputs": [],
   "source": [
    "jovian.commit(filename=filename)"
   ]
  },
  {
   "cell_type": "markdown",
   "metadata": {},
   "source": [
    "## Function 2 - np.sort()\n",
    "\n",
    "Sort numpy arrays easily!\n",
    "https://numpy.org/doc/stable/reference/generated/numpy.sort.html  \n",
    "\n",
    "***Highly recommend to watch these two videos***  \n",
    "    - https://www.youtube.com/watch?v=v4cd1O4zkGw - On BigO notation  \n",
    "    - https://www.youtube.com/watch?v=KJuxI1BBLyQ - On the stability of algorithms   \n",
    "There are 3 different kinds of sorting algorithms available, in order by average speed.  \n",
    "\n",
    "| Algorithm | Speed | Stable| Comment |\n",
    "| --- | --- | :-: | --- |\n",
    "|Quicksort| O(n^2) | *false* | default sorting algorithm |\n",
    "|Radix Sort| O(n^2) | **true**| Used on the backend in certain situations|\n",
    "|Mergesort| O(n*log(n)) | **true**| Same as \"stable\"-Numpy will always choose the fastest stable sort for you  |\n",
    "|Timsort| O(n*log(n))| **true**|  Currently cannot be called directly,use \"stable\"  |\n",
    "|Heapsort | O(n*log(n))| *false*|\n",
    "\n",
    "**Note from Docs-\n",
    "The datatype determines which of ‘mergesort’ or ‘timsort’ is actually used, even if ‘mergesort’ is specified. User selection at a finer scale is not currently available.*"
   ]
  },
  {
   "cell_type": "markdown",
   "metadata": {},
   "source": [
    "### Example 1 -working\n"
   ]
  },
  {
   "cell_type": "code",
   "execution_count": null,
   "metadata": {
    "tags": []
   },
   "outputs": [],
   "source": [
    "random_array=np.random.randint(0,256,size=(10)) \n",
    "sorted_array=np.sort(a=random_array,kind=\"heapsort\")"
   ]
  },
  {
   "cell_type": "code",
   "execution_count": null,
   "metadata": {},
   "outputs": [],
   "source": [
    "#from plotly.com/python/table\n",
    "import plotly.graph_objects as go\n",
    "def plot_diff(original,after):\n",
    " headerColor = 'grey'\n",
    " rowEvenColor = 'lightgrey'\n",
    " rowOddColor = 'white'\n",
    " return go.Figure(data=[go.Table(\n",
    "    header=dict(\n",
    "    values=['<b>Values</b>'],\n",
    "    line_color='darkslategray',\n",
    "    fill_color=headerColor,\n",
    "    align=['left','center'],\n",
    "    font=dict(color='white', size=12)\n",
    "  ),\n",
    "  cells=dict(\n",
    "    values=[\n",
    "      ['Original', 'After operation',],\n",
    "      [original,after],\n",
    "    ],\n",
    "    line_color='darkslategray',\n",
    "    # 2-D list of colors for alternating rows\n",
    "    fill_color = [[rowOddColor,rowEvenColor,rowOddColor, rowEvenColor,rowOddColor]*5],\n",
    "    align = ['left', 'center'],\n",
    "    font = dict(color = 'darkslategray', size = 11)\n",
    "    ))\n",
    "])\n"
   ]
  },
  {
   "cell_type": "code",
   "execution_count": null,
   "metadata": {},
   "outputs": [],
   "source": [
    "fig=plot_diff(original=random_array,after=sorted_array)\n",
    "fig.show()"
   ]
  },
  {
   "cell_type": "markdown",
   "metadata": {},
   "source": [
    "This example creates a single dimensional numpy array and sorts it with heapsort.\n",
    "There is also a plotly table to help visualize the difference.   \n",
    "(Pretty sure I could have used a dataframe, but still not there yet in the course.)"
   ]
  },
  {
   "cell_type": "markdown",
   "metadata": {},
   "source": [
    "### Example 2 - working"
   ]
  },
  {
   "cell_type": "code",
   "execution_count": null,
   "metadata": {},
   "outputs": [],
   "source": [
    "random_array2=np.random.randint(0,2048,10)\n",
    "sorted_array2=random_array2.copy()\n",
    "sorted_array2.sort()\n",
    "plot_diff(random_array2,sorted_array2)"
   ]
  },
  {
   "cell_type": "markdown",
   "metadata": {},
   "source": [
    "Numpy also lets you sort an array in place using the .sort() method!"
   ]
  },
  {
   "cell_type": "markdown",
   "metadata": {},
   "source": [
    "### Example 3 - breaking (to illustrate when it breaks)\n"
   ]
  },
  {
   "cell_type": "code",
   "execution_count": null,
   "metadata": {},
   "outputs": [],
   "source": [
    "random_array2.sort(kind=\"tinsort\")\n",
    "random_array2"
   ]
  },
  {
   "cell_type": "markdown",
   "metadata": {},
   "source": [
    "As stated in the docs, it is not possible to use tinsort directly."
   ]
  },
  {
   "cell_type": "markdown",
   "metadata": {},
   "source": [
    "This function makes it easy to be able to sort the data that you are working, especially when there are options(not dicussed here, but in docs) to sort catagorically and pick the sorting algorithm."
   ]
  },
  {
   "cell_type": "code",
   "execution_count": null,
   "metadata": {
    "tags": []
   },
   "outputs": [],
   "source": [
    "jovian.commit(filename=filename)"
   ]
  },
  {
   "cell_type": "markdown",
   "metadata": {},
   "source": [
    "## Function 3 - np.ravel\n",
    "\n",
    "This function is similar to np.flatten, but the difference is that np.ravel tries to return a view of the original array(meaning it just returns the original array- no copy) whenever possible(making it faster in some situations), unlike the flatten method, which returns a copy of the original array. Due to this behaviour, it is possible to modify the original array, so caution needs to be applied while using this ."
   ]
  },
  {
   "cell_type": "code",
   "execution_count": null,
   "metadata": {
    "tags": []
   },
   "outputs": [],
   "source": [
    "# Example 1 - workin"
   ]
  },
  {
   "cell_type": "markdown",
   "metadata": {},
   "source": [
    "Explanation about example"
   ]
  },
  {
   "cell_type": "code",
   "execution_count": null,
   "metadata": {
    "tags": []
   },
   "outputs": [],
   "source": [
    "# Example 2 - working\n",
    "???"
   ]
  },
  {
   "cell_type": "markdown",
   "metadata": {},
   "source": [
    "Explanation about example"
   ]
  },
  {
   "cell_type": "code",
   "execution_count": null,
   "metadata": {
    "tags": []
   },
   "outputs": [],
   "source": [
    "# Example 3 - breaking (to illustrate when it breaks)\n",
    "???"
   ]
  },
  {
   "cell_type": "markdown",
   "metadata": {},
   "source": [
    "Explanation about example (why it breaks and how to fix it)"
   ]
  },
  {
   "cell_type": "markdown",
   "metadata": {},
   "source": [
    "Some closing comments about when to use this function."
   ]
  },
  {
   "cell_type": "code",
   "execution_count": null,
   "metadata": {},
   "outputs": [],
   "source": [
    "jovian.commit()"
   ]
  },
  {
   "cell_type": "markdown",
   "metadata": {},
   "source": [
    "## Function 3 - ???\n",
    "\n",
    "Add some explanations"
   ]
  },
  {
   "cell_type": "code",
   "execution_count": null,
   "metadata": {
    "tags": []
   },
   "outputs": [],
   "source": [
    "# Example 1 - working\n",
    "???"
   ]
  },
  {
   "cell_type": "markdown",
   "metadata": {},
   "source": [
    "Explanation about example"
   ]
  },
  {
   "cell_type": "code",
   "execution_count": null,
   "metadata": {
    "tags": []
   },
   "outputs": [],
   "source": [
    "# Example 2 - working\n",
    "???"
   ]
  },
  {
   "cell_type": "markdown",
   "metadata": {},
   "source": [
    "Explanation about example"
   ]
  },
  {
   "cell_type": "code",
   "execution_count": null,
   "metadata": {
    "tags": []
   },
   "outputs": [],
   "source": [
    "# Example 3 - breaking (to illustrate when it breaks)\n",
    "???"
   ]
  },
  {
   "cell_type": "markdown",
   "metadata": {},
   "source": [
    "Explanation about example (why it breaks and how to fix it)"
   ]
  },
  {
   "cell_type": "markdown",
   "metadata": {},
   "source": [
    "Some closing comments about when to use this function."
   ]
  },
  {
   "cell_type": "code",
   "execution_count": null,
   "metadata": {},
   "outputs": [],
   "source": [
    "jovian.commit()"
   ]
  },
  {
   "cell_type": "markdown",
   "metadata": {},
   "source": [
    "## Function 4 - ???\n",
    "\n",
    "Add some explanations"
   ]
  },
  {
   "cell_type": "code",
   "execution_count": null,
   "metadata": {
    "tags": []
   },
   "outputs": [],
   "source": [
    "# Example 1 - working\n",
    "???"
   ]
  },
  {
   "cell_type": "markdown",
   "metadata": {},
   "source": [
    "Explanation about example"
   ]
  },
  {
   "cell_type": "code",
   "execution_count": null,
   "metadata": {
    "tags": []
   },
   "outputs": [],
   "source": [
    "# Example 2 - working\n",
    "???"
   ]
  },
  {
   "cell_type": "markdown",
   "metadata": {},
   "source": [
    "Explanation about example"
   ]
  },
  {
   "cell_type": "code",
   "execution_count": null,
   "metadata": {
    "tags": []
   },
   "outputs": [],
   "source": [
    "# Example 3 - breaking (to illustrate when it breaks)\n",
    "???"
   ]
  },
  {
   "cell_type": "markdown",
   "metadata": {},
   "source": [
    "Explanation about example (why it breaks and how to fix it)"
   ]
  },
  {
   "cell_type": "markdown",
   "metadata": {},
   "source": [
    "Some closing comments about when to use this function."
   ]
  },
  {
   "cell_type": "code",
   "execution_count": null,
   "metadata": {},
   "outputs": [],
   "source": [
    "jovian.commit()"
   ]
  },
  {
   "cell_type": "markdown",
   "metadata": {},
   "source": [
    "## Function 5 - ???\n",
    "\n",
    "Add some explanations"
   ]
  },
  {
   "cell_type": "code",
   "execution_count": null,
   "metadata": {
    "tags": []
   },
   "outputs": [],
   "source": [
    "# Example 1 - working\n",
    "???"
   ]
  },
  {
   "cell_type": "markdown",
   "metadata": {},
   "source": [
    "Explanation about example"
   ]
  },
  {
   "cell_type": "code",
   "execution_count": null,
   "metadata": {
    "tags": []
   },
   "outputs": [],
   "source": [
    "# Example 2 - working\n",
    "???"
   ]
  },
  {
   "cell_type": "markdown",
   "metadata": {},
   "source": [
    "Explanation about example"
   ]
  },
  {
   "cell_type": "code",
   "execution_count": null,
   "metadata": {
    "tags": []
   },
   "outputs": [],
   "source": [
    "# Example 3 - breaking (to illustrate when it breaks)\n",
    "???"
   ]
  },
  {
   "cell_type": "markdown",
   "metadata": {},
   "source": [
    "Explanation about example (why it breaks and how to fix it)"
   ]
  },
  {
   "cell_type": "markdown",
   "metadata": {},
   "source": [
    "Some closing comments about when to use this function."
   ]
  },
  {
   "cell_type": "code",
   "execution_count": null,
   "metadata": {},
   "outputs": [],
   "source": [
    "jovian.commit()"
   ]
  },
  {
   "cell_type": "markdown",
   "metadata": {},
   "source": [
    "## Conclusion\n",
    "\n",
    "Summarize what was covered in this notebook, and where to go next"
   ]
  },
  {
   "cell_type": "markdown",
   "metadata": {},
   "source": [
    "## Reference Links\n",
    "Provide links to your references and other interesting articles about Numpy arrays:\n",
    "* Numpy official tutorial : https://numpy.org/doc/stable/user/quickstart.html\n",
    "* ..."
   ]
  },
  {
   "cell_type": "code",
   "execution_count": null,
   "metadata": {},
   "outputs": [],
   "source": [
    "jovian.commit()"
   ]
  },
  {
   "cell_type": "code",
   "execution_count": null,
   "metadata": {},
   "outputs": [],
   "source": []
  }
 ],
 "metadata": {
  "kernelspec": {
   "display_name": "Python 3",
   "language": "python",
   "name": "python3"
  },
  "language_info": {
   "codemirror_mode": {
    "name": "ipython",
    "version": 3
   },
   "file_extension": ".py",
   "mimetype": "text/x-python",
   "name": "python",
   "nbconvert_exporter": "python",
   "pygments_lexer": "ipython3",
   "version": "3.8.2"
  }
 },
 "nbformat": 4,
 "nbformat_minor": 4
}
