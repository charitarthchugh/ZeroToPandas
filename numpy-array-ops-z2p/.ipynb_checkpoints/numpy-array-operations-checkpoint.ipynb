{
 "cells": [
  {
   "cell_type": "markdown",
   "metadata": {},
   "source": [
    "# 5 useful Numpy functions!\n",
    "\n",
    "These are simple to understand \n",
    "\n",
    "- Triganometric functions!\n",
    "- Sorting!\n",
    "- Ravel!\n",
    "- Can_convert!\n",
    "- Angle conversions!\n",
    "\n",
    "The recommended way to run this notebook is to click the \"Run\" button at the top of this page, and select \"Run on Binder\". This will run the notebook on mybinder.org, a free online service for running Jupyter notebooks."
   ]
  },
  {
   "cell_type": "code",
   "execution_count": null,
   "metadata": {
    "tags": []
   },
   "outputs": [],
   "source": [
    "!pip install jovian plotly --upgrade -q"
   ]
  },
  {
   "cell_type": "code",
   "execution_count": null,
   "metadata": {
    "tags": []
   },
   "outputs": [],
   "source": [
    "import jovian\n",
    "import numpy as np\n",
    "from plotly import graph_objects as go\n",
    "from plotly import express as px\n",
    "import pandas as pd"
   ]
  },
  {
   "cell_type": "code",
   "execution_count": null,
   "metadata": {},
   "outputs": [],
   "source": [
    "filename=\"numpy-array-operations.ipynb\""
   ]
  },
  {
   "cell_type": "code",
   "execution_count": null,
   "metadata": {},
   "outputs": [],
   "source": [
    "#from plotly.com/python/table\n",
    "def plot_diff(original,after):\n",
    " return go.Figure(data=[go.Table(\n",
    "    header=dict(\n",
    "    values=['Original', 'After operation',],\n",
    "    line_color='darkslategray',\n",
    "    align=['left','center'],\n",
    "    font=dict(color='white', size=12)\n",
    "  ),\n",
    "  cells=dict(\n",
    "    values=[\n",
    "      original,after,\n",
    "    ],\n",
    "    line_color='darkslategray',\n",
    "    # 2-D list of colors for alternating rows\n",
    "    align = ['left', 'center'],\n",
    "    font = dict(color = 'darkslategray', size = 11)\n",
    "    ))\n",
    "])\n",
    "def plot_curve(input, output, label):\n",
    " fig = go.Figure(data=go.Scatter(x=input, y=output))\n",
    " fig.show()"
   ]
  },
  {
   "cell_type": "code",
   "execution_count": null,
   "metadata": {
    "tags": []
   },
   "outputs": [],
   "source": [
    "jovian.commit(project='numpy-array-operations-z2p',filename=filename)"
   ]
  },
  {
   "cell_type": "markdown",
   "metadata": {},
   "source": [
    "Let's begin by importing Numpy and listing out the functions covered in this notebook."
   ]
  },
  {
   "cell_type": "code",
   "execution_count": null,
   "metadata": {},
   "outputs": [],
   "source": [
    "import numpy as np"
   ]
  },
  {
   "cell_type": "code",
   "execution_count": null,
   "metadata": {},
   "outputs": [],
   "source": [
    "# List of functions explained\n",
    "function1 = np.sin()\n",
    "function2 = np.sort() \n",
    "function3 = np.ravel()\n",
    "function4 = np.can_sort\n",
    "function5 = np.deg2rad()"
   ]
  },
  {
   "cell_type": "markdown",
   "metadata": {},
   "source": [
    "## Function 1 - Numpy Triganometry!\n",
    "\n",
    "Perform triginometric functions in numpy, with the input in radians.\n",
    "\n",
    "This section applies to sin,cos,tan,arcsin,arccos and arctan numpy functions.\n"
   ]
  },
  {
   "cell_type": "code",
   "execution_count": null,
   "metadata": {
    "tags": []
   },
   "outputs": [],
   "source": [
    "random_radians=np.linspace(-2,2.2*np.pi,50)\n",
    "random_sin=np.sin(random_radians)\n",
    "plot_curve(random_radians, random_sin,\"sin(x)\")"
   ]
  },
  {
   "cell_type": "markdown",
   "metadata": {},
   "source": [
    "All of the trigometric functions do an element-wise operation. Here, it was a sine operation on each element in the `random_radians` array."
   ]
  },
  {
   "cell_type": "markdown",
   "metadata": {},
   "source": [
    "### Example 2\n"
   ]
  },
  {
   "cell_type": "code",
   "execution_count": null,
   "metadata": {},
   "outputs": [],
   "source": [
    "random_cos=np.zeros(random_radians.size,)\n",
    "np.cos(random_radians, out=random_cos,)\n",
    "plot_curve(random_radians, random_cos, \"cos(x)\")"
   ]
  },
  {
   "cell_type": "markdown",
   "metadata": {},
   "source": [
    "Another property of these functions is that you can optionally specify which numpy array to output the result to(the original values will be overwritten). By default, it will return a new numpy array. "
   ]
  },
  {
   "cell_type": "markdown",
   "metadata": {},
   "source": [
    "### Example 3 (breaking)"
   ]
  },
  {
   "cell_type": "code",
   "execution_count": null,
   "metadata": {},
   "outputs": [],
   "source": [
    "random_d=np.linspace(-10,5,50)\n",
    "random_tan=np.tan(random_d)\n",
    "plot_curve(random_d,random_tan,\"tan(x)\")"
   ]
  },
  {
   "cell_type": "markdown",
   "metadata": {},
   "source": [
    "This is a semantic error. It breaks because the input values were in degrees, not radians, getting this weird graph"
   ]
  },
  {
   "cell_type": "markdown",
   "metadata": {},
   "source": [
    "Overall, this function type is a must when dealing with trigonometry. Just make sure to have the angles in radians!"
   ]
  },
  {
   "cell_type": "code",
   "execution_count": null,
   "metadata": {
    "tags": []
   },
   "outputs": [],
   "source": [
    "jovian.commit(filename=filename)"
   ]
  },
  {
   "cell_type": "markdown",
   "metadata": {},
   "source": [
    "## Function 2 - np.sort()\n",
    "\n",
    "Sort numpy arrays easily!\n",
    "https://numpy.org/doc/stable/reference/generated/numpy.sort.html  \n",
    "\n",
    "***Highly recommend to watch these two videos***  \n",
    "    - https://www.youtube.com/watch?v=v4cd1O4zkGw - On BigO notation  \n",
    "    - https://www.youtube.com/watch?v=KJuxI1BBLyQ - On the stability of algorithms   \n",
    "There are 3 different kinds of sorting algorithms available, in order by average speed.  \n",
    "\n",
    "| Algorithm | Speed | Stable| Comment |\n",
    "| --- | --- | :-: | --- |\n",
    "|`Quicksort`| O(n^2) | *false* | default sorting algorithm |\n",
    "|`Radix Sort`| O(n^2) | **true**| Used on the backend in certain situations|\n",
    "|`Mergesort`| O(n*log(n)) | **true**| Same as \"stable\"-Numpy will always choose the fastest stable sort for you  |\n",
    "|`Timsort`| O(n*log(n))| **true**|  Currently cannot be called directly,use \"stable\"  |\n",
    "|`Heapsort`| O(n*log(n))| *false*|\n",
    "\n",
    "**Note from Docs-\n",
    "The datatype determines which of ‘mergesort’ or ‘timsort’ is actually used, even if ‘mergesort’ is specified. User selection at a finer scale is not currently available.*"
   ]
  },
  {
   "cell_type": "markdown",
   "metadata": {},
   "source": [
    "### Example 1 -working\n"
   ]
  },
  {
   "cell_type": "code",
   "execution_count": null,
   "metadata": {
    "tags": []
   },
   "outputs": [],
   "source": [
    "random_array=np.random.randint(0,256,size=(10)) \n",
    "sorted_array=np.sort(a=random_array,kind=\"heapsort\")"
   ]
  },
  {
   "cell_type": "code",
   "execution_count": null,
   "metadata": {},
   "outputs": [],
   "source": [
    "fig=plot_diff(original=random_array,after=sorted_array)\n",
    "fig.show()"
   ]
  },
  {
   "cell_type": "markdown",
   "metadata": {},
   "source": [
    "This example creates a single dimensional numpy array and sorts it with heapsort."
   ]
  },
  {
   "cell_type": "markdown",
   "metadata": {},
   "source": [
    "### Example 2 - working"
   ]
  },
  {
   "cell_type": "code",
   "execution_count": null,
   "metadata": {},
   "outputs": [],
   "source": [
    "random_array2=np.random.randint(0,2048,10)\n",
    "sorted_array2=random_array2.copy()\n",
    "sorted_array2.sort()\n",
    "plot_diff(random_array2,sorted_array2)"
   ]
  },
  {
   "cell_type": "markdown",
   "metadata": {},
   "source": [
    "Numpy also lets you sort an array in place using the .sort() method!"
   ]
  },
  {
   "cell_type": "markdown",
   "metadata": {},
   "source": [
    "### Example 3 - breaking (to illustrate when it breaks)\n"
   ]
  },
  {
   "cell_type": "code",
   "execution_count": null,
   "metadata": {},
   "outputs": [],
   "source": [
    "random_array2.sort(kind=\"tinsort\")\n",
    "random_array2"
   ]
  },
  {
   "cell_type": "markdown",
   "metadata": {},
   "source": [
    "As stated in the docs, it is not possible to use tinsort directly."
   ]
  },
  {
   "cell_type": "markdown",
   "metadata": {},
   "source": [
    "This function makes it easy to be able to sort the data that you are working, especially when there are options(not dicussed here, but in docs) to sort catagorically and pick the sorting algorithm."
   ]
  },
  {
   "cell_type": "code",
   "execution_count": null,
   "metadata": {
    "tags": []
   },
   "outputs": [],
   "source": [
    "jovian.commit(filename=filename)"
   ]
  },
  {
   "cell_type": "markdown",
   "metadata": {},
   "source": [
    "## Function 3 - np.ravel\n",
    "\n",
    "This function is similar to np.flatten, but the difference is that np.ravel tries to return a view of the original array(meaning it just returns the original array- no copy) whenever possible(making it faster in some situations), unlike the flatten method, which returns a copy of the original array. Due to this behaviour, it is possible to modify the original array, so caution needs to be applied while using this."
   ]
  },
  {
   "cell_type": "markdown",
   "metadata": {
    "tags": []
   },
   "source": [
    "### Example 1 - working\n"
   ]
  },
  {
   "cell_type": "code",
   "execution_count": null,
   "metadata": {
    "tags": []
   },
   "outputs": [],
   "source": [
    "%time\n",
    "random_array3=[np.random.randint(0,16,size=(2,4,6)),np.random.randn()]\n",
    "raveled_array=np.ravel(random_array3)\n",
    "print(\"Original\")\n",
    "print(random_array3)\n",
    "print(\"Raveled\")\n",
    "print(raveled_array)"
   ]
  },
  {
   "cell_type": "markdown",
   "metadata": {},
   "source": [
    "Ravel is a library level function- which means that it can work on lists of numpy arrays, while flatten is a operation for 1 single np array."
   ]
  },
  {
   "cell_type": "markdown",
   "metadata": {},
   "source": [
    "### Example 2"
   ]
  },
  {
   "cell_type": "code",
   "execution_count": null,
   "metadata": {
    "tags": []
   },
   "outputs": [],
   "source": [
    "random_array4=np.random.randint(0,16,size=(5,5,5))\n",
    "raveled_array=np.ravel(random_array4, order=\"F\")\n",
    "print(\"Original\")\n",
    "print(random_array3)\n",
    "print(\"Raveled\")\n",
    "print(raveled_array)\n"
   ]
  },
  {
   "cell_type": "markdown",
   "metadata": {},
   "source": [
    "`np.ravel` can be also used in the same way that `np.flatten.` This includes changing how the elements can be ordered.\n",
    "\n",
    "**Order**\n",
    "\n",
    "|  Style | Info |\n",
    "| --- | ---  |\n",
    "| `\"C\"` | *Default*.  Row- Major order (elements are placed horizontally)- from C language |\n",
    "| `\"F\"` | Column-major order (elements placed vertically) - from Fortran language |\n",
    "|`\"K\"`| Place elements as they occur in memory (reverses data when reading backwords) |\n",
    "|`\"A\"` |  Fortran-like but as they occur in memory |\n",
    "\n"
   ]
  },
  {
   "cell_type": "code",
   "execution_count": null,
   "metadata": {
    "tags": []
   },
   "outputs": [],
   "source": [
    "# Example 3 - breaking (to illustrate when it breaks)\n",
    "raveled_array= np.ravel(sorted_array)\n",
    "plot_diff(sorted_array, raveled_array)"
   ]
  },
  {
   "cell_type": "markdown",
   "metadata": {},
   "source": [
    "This is a semantic error. If the array is already 1D, it will return a copy of it. Instead, just use the `{array_name}.copy()` function to copy. If the intention was to make the array into multiple dimensions, use the `{array_name}.reshape()` function."
   ]
  },
  {
   "cell_type": "markdown",
   "metadata": {},
   "source": [
    "This function has a bit more of a niche case, but it is fairly easy as it follows the same syntax as `{array_name}.flatten`."
   ]
  },
  {
   "cell_type": "code",
   "execution_count": null,
   "metadata": {
    "tags": []
   },
   "outputs": [],
   "source": [
    "jovian.commit(filename=filename)"
   ]
  },
  {
   "cell_type": "markdown",
   "metadata": {},
   "source": [
    "## Function 4 - np.can_cast\n",
    "\n",
    "This is a small helper function that allows to check if a certain dtype can be converted into another dtype, "
   ]
  },
  {
   "cell_type": "code",
   "execution_count": null,
   "metadata": {
    "tags": []
   },
   "outputs": [],
   "source": [
    "np.can_cast(np.float32,np.float128)"
   ]
  },
  {
   "cell_type": "markdown",
   "metadata": {},
   "source": [
    "This function takes an input dtype(`np.float32`) and an output dtype(`np.float128`)\n",
    "The function returns a true when a cast can occur, and false when it can't. "
   ]
  },
  {
   "cell_type": "markdown",
   "metadata": {},
   "source": [
    "### Example 2"
   ]
  },
  {
   "cell_type": "code",
   "execution_count": null,
   "metadata": {
    "tags": []
   },
   "outputs": [],
   "source": [
    "np.can_cast(np.int64,np.int8,\"same_kind\")"
   ]
  },
  {
   "cell_type": "markdown",
   "metadata": {},
   "source": [
    "There is also the option to check if a type cast can happen when following a specific rule. (ex. `same_kind`, which checks if the cast is the same type of variable.)  \n",
    "The rules available are listed here:[\n",
    "    Numpy Docs](https//numpy.org/doc/stable/reference/generated/numpy.can_cast.html)\n"
   ]
  },
  {
   "cell_type": "markdown",
   "metadata": {},
   "source": [
    "### Example 3 - breaking (to illustrate when it breaks)"
   ]
  },
  {
   "cell_type": "code",
   "execution_count": null,
   "metadata": {
    "tags": []
   },
   "outputs": [],
   "source": [
    "np.can_cast(complex, int64)"
   ]
  },
  {
   "cell_type": "markdown",
   "metadata": {},
   "source": [
    "Here, int64 does not work because it is not defined as a dtype. Just make sure to use `np.{dtype name}`"
   ]
  },
  {
   "cell_type": "markdown",
   "metadata": {},
   "source": [
    "The best usecase for this function is in if statements, as python variables can change type, to make safe operations."
   ]
  },
  {
   "cell_type": "code",
   "execution_count": null,
   "metadata": {
    "tags": []
   },
   "outputs": [],
   "source": [
    "jovian.commit(filename=filename)"
   ]
  },
  {
   "cell_type": "markdown",
   "metadata": {},
   "source": [
    "## Function 5 - Angle Conversions!\n",
    "\n",
    "To complement the trigonometry functions shown earlier, here are some functions that do the angle conversions!\n",
    "\n",
    "** `np.rad2deg` is the same as`np.radians`**  \n",
    "** `np.deg2rad` is the same as `np.degrees`**"
   ]
  },
  {
   "cell_type": "code",
   "execution_count": null,
   "metadata": {
    "tags": []
   },
   "outputs": [],
   "source": [
    "# Example 1 - working\n",
    "random_convert=np.radians(random_d)\n",
    "plot_diff(random_d, random_convert)"
   ]
  },
  {
   "cell_type": "markdown",
   "metadata": {},
   "source": [
    "Explanation about example"
   ]
  },
  {
   "cell_type": "code",
   "execution_count": null,
   "metadata": {
    "tags": []
   },
   "outputs": [],
   "source": [
    "# Example 2 - working\n",
    "random_convert = np.zeros(random_radians.size())\n"
   ]
  },
  {
   "cell_type": "markdown",
   "metadata": {},
   "source": [
    "Explanation about example"
   ]
  },
  {
   "cell_type": "code",
   "execution_count": null,
   "metadata": {
    "tags": []
   },
   "outputs": [],
   "source": [
    "# Example 3 - breaking (to illustrate when it breaks)\n",
    "???"
   ]
  },
  {
   "cell_type": "markdown",
   "metadata": {},
   "source": [
    "Explanation about example (why it breaks and how to fix it)"
   ]
  },
  {
   "cell_type": "markdown",
   "metadata": {},
   "source": [
    "Some closing comments about when to use this function."
   ]
  },
  {
   "cell_type": "code",
   "execution_count": null,
   "metadata": {
    "tags": []
   },
   "outputs": [],
   "source": [
    "jovian.commit(filename=filename)"
   ]
  },
  {
   "cell_type": "markdown",
   "metadata": {},
   "source": [
    "## Conclusion\n",
    "\n",
    "If you are new to numpy, please spend the time to learn and practice it. It will definetely reward you in the future. To do so, a good resource is 100 Numpy Functions Practice: [Jovian.ml](https://jovian.ml/aakashns/100-numpy-exercises) [GitHub](https://github.com/rougier/numpy-100)"
   ]
  },
  {
   "cell_type": "code",
   "execution_count": null,
   "metadata": {
    "tags": []
   },
   "outputs": [],
   "source": [
    "jovian.commit(filename=filename)"
   ]
  },
  {
   "cell_type": "code",
   "execution_count": null,
   "metadata": {},
   "outputs": [],
   "source": []
  }
 ],
 "metadata": {
  "kernelspec": {
   "display_name": "Python 3",
   "language": "python",
   "name": "python3"
  },
  "language_info": {
   "codemirror_mode": {
    "name": "ipython",
    "version": 3
   },
   "file_extension": ".py",
   "mimetype": "text/x-python",
   "name": "python",
   "nbconvert_exporter": "python",
   "pygments_lexer": "ipython3",
   "version": "3.8.2"
  }
 },
 "nbformat": 4,
 "nbformat_minor": 4
}
